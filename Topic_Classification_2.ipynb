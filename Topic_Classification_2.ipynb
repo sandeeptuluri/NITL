{
  "nbformat": 4,
  "nbformat_minor": 0,
  "metadata": {
    "colab": {
      "name": "Text2.ipynb",
      "provenance": [],
      "collapsed_sections": [],
      "authorship_tag": "ABX9TyN2gHkZOf9muM/mUy9WeSgy",
      "include_colab_link": true
    },
    "kernelspec": {
      "display_name": "Python 3",
      "name": "python3"
    },
    "language_info": {
      "name": "python"
    }
  },
  "cells": [
    {
      "cell_type": "markdown",
      "metadata": {
        "id": "view-in-github",
        "colab_type": "text"
      },
      "source": [
        "<a href=\"https://colab.research.google.com/github/sandeeptuluri/fresh1/blob/main/Text2.ipynb\" target=\"_parent\"><img src=\"https://colab.research.google.com/assets/colab-badge.svg\" alt=\"Open In Colab\"/></a>"
      ]
    },
    {
      "cell_type": "code",
      "metadata": {
        "id": "LHxpYKbSggPD"
      },
      "source": [
        "import pandas as pd\n",
        "import numpy as np\n",
        "import seaborn as sns\n",
        "import matplotlib.pyplot as plt"
      ],
      "execution_count": 1,
      "outputs": []
    },
    {
      "cell_type": "code",
      "metadata": {
        "colab": {
          "base_uri": "https://localhost:8080/",
          "height": 204
        },
        "id": "fM2PmIxMg7pr",
        "outputId": "ace23d16-4308-4f9e-a42f-c2c2f5e63637"
      },
      "source": [
        "df = pd.read_csv('https://raw.githubusercontent.com/sandeeptuluri/fresh1/main/dataset2.csv')\n",
        "df.head()"
      ],
      "execution_count": 2,
      "outputs": [
        {
          "output_type": "execute_result",
          "data": {
            "text/html": [
              "<div>\n",
              "<style scoped>\n",
              "    .dataframe tbody tr th:only-of-type {\n",
              "        vertical-align: middle;\n",
              "    }\n",
              "\n",
              "    .dataframe tbody tr th {\n",
              "        vertical-align: top;\n",
              "    }\n",
              "\n",
              "    .dataframe thead th {\n",
              "        text-align: right;\n",
              "    }\n",
              "</style>\n",
              "<table border=\"1\" class=\"dataframe\">\n",
              "  <thead>\n",
              "    <tr style=\"text-align: right;\">\n",
              "      <th></th>\n",
              "      <th>id</th>\n",
              "      <th>summary</th>\n",
              "      <th>topicID</th>\n",
              "      <th>topicName</th>\n",
              "    </tr>\n",
              "  </thead>\n",
              "  <tbody>\n",
              "    <tr>\n",
              "      <th>0</th>\n",
              "      <td>26899</td>\n",
              "      <td>Uttarakhand has been battered by rains since S...</td>\n",
              "      <td>20</td>\n",
              "      <td>Local News</td>\n",
              "    </tr>\n",
              "    <tr>\n",
              "      <th>1</th>\n",
              "      <td>26897</td>\n",
              "      <td>Gunmen from a suspected criminal gang attacked...</td>\n",
              "      <td>11</td>\n",
              "      <td>Africa</td>\n",
              "    </tr>\n",
              "    <tr>\n",
              "      <th>2</th>\n",
              "      <td>26896</td>\n",
              "      <td>A street artist Mundano painted a giant mural ...</td>\n",
              "      <td>6</td>\n",
              "      <td>Habitat</td>\n",
              "    </tr>\n",
              "    <tr>\n",
              "      <th>3</th>\n",
              "      <td>26896</td>\n",
              "      <td>A street artist Mundano painted a giant mural ...</td>\n",
              "      <td>11</td>\n",
              "      <td>Africa</td>\n",
              "    </tr>\n",
              "    <tr>\n",
              "      <th>4</th>\n",
              "      <td>26896</td>\n",
              "      <td>A street artist Mundano painted a giant mural ...</td>\n",
              "      <td>16</td>\n",
              "      <td>Art and Culture</td>\n",
              "    </tr>\n",
              "  </tbody>\n",
              "</table>\n",
              "</div>"
            ],
            "text/plain": [
              "      id  ...        topicName\n",
              "0  26899  ...       Local News\n",
              "1  26897  ...           Africa\n",
              "2  26896  ...          Habitat\n",
              "3  26896  ...           Africa\n",
              "4  26896  ...  Art and Culture\n",
              "\n",
              "[5 rows x 4 columns]"
            ]
          },
          "metadata": {},
          "execution_count": 2
        }
      ]
    },
    {
      "cell_type": "code",
      "metadata": {
        "colab": {
          "base_uri": "https://localhost:8080/"
        },
        "id": "rCZSJHdchXU-",
        "outputId": "12477cf8-41c1-4abf-e024-d08d16fdb95f"
      },
      "source": [
        "df.info()"
      ],
      "execution_count": 13,
      "outputs": [
        {
          "output_type": "stream",
          "name": "stdout",
          "text": [
            "<class 'pandas.core.frame.DataFrame'>\n",
            "RangeIndex: 100 entries, 0 to 99\n",
            "Data columns (total 4 columns):\n",
            " #   Column     Non-Null Count  Dtype \n",
            "---  ------     --------------  ----- \n",
            " 0   id         100 non-null    int64 \n",
            " 1   summary    100 non-null    object\n",
            " 2   topicID    100 non-null    int64 \n",
            " 3   topicName  100 non-null    object\n",
            "dtypes: int64(2), object(2)\n",
            "memory usage: 3.2+ KB\n"
          ]
        }
      ]
    },
    {
      "cell_type": "code",
      "metadata": {
        "colab": {
          "base_uri": "https://localhost:8080/"
        },
        "id": "Mc7a2EE9AVjR",
        "outputId": "4651343e-709a-4db4-a697-109e908f9bd3"
      },
      "source": [
        "df.isnull().sum()"
      ],
      "execution_count": 14,
      "outputs": [
        {
          "output_type": "execute_result",
          "data": {
            "text/plain": [
              "id           0\n",
              "summary      0\n",
              "topicID      0\n",
              "topicName    0\n",
              "dtype: int64"
            ]
          },
          "metadata": {},
          "execution_count": 14
        }
      ]
    },
    {
      "cell_type": "code",
      "metadata": {
        "colab": {
          "base_uri": "https://localhost:8080/"
        },
        "id": "ZJrmtVikg_x-",
        "outputId": "259a3122-8de9-4d27-d7ca-b2aacb110849"
      },
      "source": [
        "df.topicName.nunique()"
      ],
      "execution_count": 15,
      "outputs": [
        {
          "output_type": "execute_result",
          "data": {
            "text/plain": [
              "22"
            ]
          },
          "metadata": {},
          "execution_count": 15
        }
      ]
    },
    {
      "cell_type": "code",
      "metadata": {
        "id": "IpILP4jGAwtX"
      },
      "source": [
        "df['summary'] = df['summary'].apply(lambda summary: (summary).lower())"
      ],
      "execution_count": 16,
      "outputs": []
    },
    {
      "cell_type": "code",
      "metadata": {
        "id": "swyQZzGJkYuH"
      },
      "source": [
        "from sklearn.model_selection import train_test_split"
      ],
      "execution_count": 17,
      "outputs": []
    },
    {
      "cell_type": "code",
      "metadata": {
        "id": "jH7NWjI0k2De"
      },
      "source": [
        "X = df['summary']\n",
        "y = df['topicID']"
      ],
      "execution_count": 18,
      "outputs": []
    },
    {
      "cell_type": "code",
      "metadata": {
        "id": "h53yOB9RklPE"
      },
      "source": [
        "X_train,X_test,y_train,y_test = train_test_split(X,y,test_size=0.3,random_state=101)"
      ],
      "execution_count": 19,
      "outputs": []
    },
    {
      "cell_type": "code",
      "metadata": {
        "colab": {
          "base_uri": "https://localhost:8080/"
        },
        "id": "cLEUN8-KaPqw",
        "outputId": "952588d7-a796-49ab-ff8c-a711c66e4846"
      },
      "source": [
        "y_train.shape"
      ],
      "execution_count": 20,
      "outputs": [
        {
          "output_type": "execute_result",
          "data": {
            "text/plain": [
              "(70,)"
            ]
          },
          "metadata": {},
          "execution_count": 20
        }
      ]
    },
    {
      "cell_type": "code",
      "metadata": {
        "id": "42UwpoES7DOH"
      },
      "source": [
        "from tensorflow.keras.utils import to_categorical"
      ],
      "execution_count": 21,
      "outputs": []
    },
    {
      "cell_type": "code",
      "metadata": {
        "id": "pfChAZS77kT4"
      },
      "source": [
        "ytr = to_categorical(y_train)"
      ],
      "execution_count": 27,
      "outputs": []
    },
    {
      "cell_type": "code",
      "metadata": {
        "colab": {
          "base_uri": "https://localhost:8080/"
        },
        "id": "rKQ8Tbqa-G-H",
        "outputId": "b052fa05-b099-4d50-b49b-13753af9dcc1"
      },
      "source": [
        "ytr.shape"
      ],
      "execution_count": 28,
      "outputs": [
        {
          "output_type": "execute_result",
          "data": {
            "text/plain": [
              "(70, 34)"
            ]
          },
          "metadata": {},
          "execution_count": 28
        }
      ]
    },
    {
      "cell_type": "code",
      "metadata": {
        "id": "Eyj31oSi-0P9"
      },
      "source": [
        "yte = to_categorical(y_test)"
      ],
      "execution_count": 29,
      "outputs": []
    },
    {
      "cell_type": "code",
      "metadata": {
        "colab": {
          "base_uri": "https://localhost:8080/"
        },
        "id": "3PwdPQcU--T6",
        "outputId": "ac82701b-77d8-4b76-c9f1-a7b3b9e42f2e"
      },
      "source": [
        "yte.shape"
      ],
      "execution_count": 30,
      "outputs": [
        {
          "output_type": "execute_result",
          "data": {
            "text/plain": [
              "(30, 34)"
            ]
          },
          "metadata": {},
          "execution_count": 30
        }
      ]
    },
    {
      "cell_type": "code",
      "metadata": {
        "id": "-p1VQoCRpnRV"
      },
      "source": [
        "import tensorflow as tf"
      ],
      "execution_count": 31,
      "outputs": []
    },
    {
      "cell_type": "code",
      "metadata": {
        "id": "Fl47z33IpdhP"
      },
      "source": [
        "import tensorflow_hub as hub"
      ],
      "execution_count": 32,
      "outputs": []
    },
    {
      "cell_type": "code",
      "metadata": {
        "id": "y5Ak9_-3l2aZ"
      },
      "source": [
        "embedding = \"https://tfhub.dev/google/nnlm-en-dim50/2\"\n",
        "hub_layer = hub.KerasLayer(embedding, input_shape=[], \n",
        "                           dtype=tf.string, trainable=True)\n",
        "#hub_layer(train)"
      ],
      "execution_count": 33,
      "outputs": []
    },
    {
      "cell_type": "markdown",
      "metadata": {
        "id": "8hNdcdFtqdxF"
      },
      "source": [
        "Building the Model..."
      ]
    },
    {
      "cell_type": "code",
      "metadata": {
        "id": "kXwbwvCUqcPi"
      },
      "source": [
        "from tensorflow.keras.models import Sequential\n",
        "from tensorflow.keras.layers import Dense"
      ],
      "execution_count": 34,
      "outputs": []
    },
    {
      "cell_type": "code",
      "metadata": {
        "id": "TUBX59ULrN9O"
      },
      "source": [
        "model = Sequential()\n",
        "model.add(hub_layer)\n",
        "model.add(Dense(512, activation='relu'))\n",
        "model.add(Dense(256, activation='relu'))\n",
        "model.add(Dense(128, activation='relu'))\n",
        "model.add(Dense(64, activation='relu'))\n",
        "model.add(Dense(40, activation='relu'))\n",
        "model.add(Dense(34, activation='softmax'))"
      ],
      "execution_count": 35,
      "outputs": []
    },
    {
      "cell_type": "code",
      "metadata": {
        "id": "yqNoxWHVrS9G"
      },
      "source": [
        "model.compile(optimizer='adam',\n",
        "              loss='categorical_crossentropy',\n",
        "              metrics=['accuracy'])"
      ],
      "execution_count": 36,
      "outputs": []
    },
    {
      "cell_type": "code",
      "metadata": {
        "colab": {
          "base_uri": "https://localhost:8080/"
        },
        "id": "B03kd5K2rXv9",
        "outputId": "25f9e221-cd5c-45ec-d08e-d5f33bd9f3bc"
      },
      "source": [
        "history = model.fit(X_train,ytr,epochs=50,validation_data=(X_test,yte),verbose=1)"
      ],
      "execution_count": 74,
      "outputs": [
        {
          "output_type": "stream",
          "name": "stdout",
          "text": [
            "Epoch 1/50\n",
            "3/3 [==============================] - 2s 587ms/step - loss: 1.5160 - accuracy: 0.4857 - val_loss: 4.6278 - val_accuracy: 0.0000e+00\n",
            "Epoch 2/50\n",
            "3/3 [==============================] - 2s 604ms/step - loss: 1.5315 - accuracy: 0.4857 - val_loss: 4.8808 - val_accuracy: 0.0000e+00\n",
            "Epoch 3/50\n",
            "3/3 [==============================] - 2s 562ms/step - loss: 1.4048 - accuracy: 0.4571 - val_loss: 5.3669 - val_accuracy: 0.0000e+00\n",
            "Epoch 4/50\n",
            "3/3 [==============================] - 2s 562ms/step - loss: 1.4185 - accuracy: 0.5000 - val_loss: 5.5947 - val_accuracy: 0.0000e+00\n",
            "Epoch 5/50\n",
            "3/3 [==============================] - 2s 558ms/step - loss: 1.4036 - accuracy: 0.5143 - val_loss: 5.6788 - val_accuracy: 0.0000e+00\n",
            "Epoch 6/50\n",
            "3/3 [==============================] - 2s 556ms/step - loss: 1.3269 - accuracy: 0.5571 - val_loss: 5.7267 - val_accuracy: 0.0000e+00\n",
            "Epoch 7/50\n",
            "3/3 [==============================] - 2s 570ms/step - loss: 1.3279 - accuracy: 0.5286 - val_loss: 5.9721 - val_accuracy: 0.0000e+00\n",
            "Epoch 8/50\n",
            "3/3 [==============================] - 2s 554ms/step - loss: 1.2810 - accuracy: 0.5571 - val_loss: 6.2091 - val_accuracy: 0.0000e+00\n",
            "Epoch 9/50\n",
            "3/3 [==============================] - 2s 565ms/step - loss: 1.1425 - accuracy: 0.5714 - val_loss: 6.4494 - val_accuracy: 0.0000e+00\n",
            "Epoch 10/50\n",
            "3/3 [==============================] - 2s 556ms/step - loss: 1.1544 - accuracy: 0.5714 - val_loss: 6.4480 - val_accuracy: 0.0000e+00\n",
            "Epoch 11/50\n",
            "3/3 [==============================] - 2s 568ms/step - loss: 1.1595 - accuracy: 0.5857 - val_loss: 6.4378 - val_accuracy: 0.0000e+00\n",
            "Epoch 12/50\n",
            "3/3 [==============================] - 2s 570ms/step - loss: 1.1645 - accuracy: 0.5286 - val_loss: 6.6603 - val_accuracy: 0.0000e+00\n",
            "Epoch 13/50\n",
            "3/3 [==============================] - 2s 561ms/step - loss: 1.1127 - accuracy: 0.5571 - val_loss: 7.0428 - val_accuracy: 0.0000e+00\n",
            "Epoch 14/50\n",
            "3/3 [==============================] - 2s 561ms/step - loss: 1.0819 - accuracy: 0.5571 - val_loss: 7.3050 - val_accuracy: 0.0000e+00\n",
            "Epoch 15/50\n",
            "3/3 [==============================] - 2s 545ms/step - loss: 1.1326 - accuracy: 0.5714 - val_loss: 7.3769 - val_accuracy: 0.0000e+00\n",
            "Epoch 16/50\n",
            "3/3 [==============================] - 2s 608ms/step - loss: 1.1877 - accuracy: 0.5571 - val_loss: 7.6007 - val_accuracy: 0.0000e+00\n",
            "Epoch 17/50\n",
            "3/3 [==============================] - 2s 564ms/step - loss: 1.0815 - accuracy: 0.5714 - val_loss: 7.6882 - val_accuracy: 0.0000e+00\n",
            "Epoch 18/50\n",
            "3/3 [==============================] - 2s 587ms/step - loss: 1.0217 - accuracy: 0.5857 - val_loss: 7.6358 - val_accuracy: 0.0000e+00\n",
            "Epoch 19/50\n",
            "3/3 [==============================] - 2s 568ms/step - loss: 1.0306 - accuracy: 0.5857 - val_loss: 7.6591 - val_accuracy: 0.0000e+00\n",
            "Epoch 20/50\n",
            "3/3 [==============================] - 2s 561ms/step - loss: 1.0665 - accuracy: 0.5714 - val_loss: 7.8522 - val_accuracy: 0.0000e+00\n",
            "Epoch 21/50\n",
            "3/3 [==============================] - 2s 571ms/step - loss: 1.0192 - accuracy: 0.5857 - val_loss: 8.2123 - val_accuracy: 0.0000e+00\n",
            "Epoch 22/50\n",
            "3/3 [==============================] - 2s 555ms/step - loss: 1.0157 - accuracy: 0.5857 - val_loss: 8.4143 - val_accuracy: 0.0000e+00\n",
            "Epoch 23/50\n",
            "3/3 [==============================] - 2s 567ms/step - loss: 0.9256 - accuracy: 0.6000 - val_loss: 8.3143 - val_accuracy: 0.0000e+00\n",
            "Epoch 24/50\n",
            "3/3 [==============================] - 2s 560ms/step - loss: 1.0240 - accuracy: 0.5571 - val_loss: 8.3330 - val_accuracy: 0.0000e+00\n",
            "Epoch 25/50\n",
            "3/3 [==============================] - 2s 561ms/step - loss: 1.0445 - accuracy: 0.5857 - val_loss: 8.4423 - val_accuracy: 0.0000e+00\n",
            "Epoch 26/50\n",
            "3/3 [==============================] - 2s 559ms/step - loss: 1.0073 - accuracy: 0.5714 - val_loss: 8.4231 - val_accuracy: 0.0000e+00\n",
            "Epoch 27/50\n",
            "3/3 [==============================] - 2s 555ms/step - loss: 0.9539 - accuracy: 0.5714 - val_loss: 8.4154 - val_accuracy: 0.0000e+00\n",
            "Epoch 28/50\n",
            "3/3 [==============================] - 2s 563ms/step - loss: 0.9319 - accuracy: 0.5714 - val_loss: 8.6802 - val_accuracy: 0.0000e+00\n",
            "Epoch 29/50\n",
            "3/3 [==============================] - 2s 560ms/step - loss: 0.9463 - accuracy: 0.6000 - val_loss: 8.9105 - val_accuracy: 0.0000e+00\n",
            "Epoch 30/50\n",
            "3/3 [==============================] - 2s 567ms/step - loss: 0.8908 - accuracy: 0.6000 - val_loss: 9.0125 - val_accuracy: 0.0000e+00\n",
            "Epoch 31/50\n",
            "3/3 [==============================] - 2s 568ms/step - loss: 0.9258 - accuracy: 0.5714 - val_loss: 9.0794 - val_accuracy: 0.0000e+00\n",
            "Epoch 32/50\n",
            "3/3 [==============================] - 2s 550ms/step - loss: 0.9303 - accuracy: 0.5714 - val_loss: 9.0074 - val_accuracy: 0.0000e+00\n",
            "Epoch 33/50\n",
            "3/3 [==============================] - 2s 557ms/step - loss: 0.8567 - accuracy: 0.5857 - val_loss: 8.9522 - val_accuracy: 0.0000e+00\n",
            "Epoch 34/50\n",
            "3/3 [==============================] - 2s 546ms/step - loss: 0.8209 - accuracy: 0.5857 - val_loss: 9.0105 - val_accuracy: 0.0000e+00\n",
            "Epoch 35/50\n",
            "3/3 [==============================] - 2s 616ms/step - loss: 0.8119 - accuracy: 0.5857 - val_loss: 9.1086 - val_accuracy: 0.0000e+00\n",
            "Epoch 36/50\n",
            "3/3 [==============================] - 2s 557ms/step - loss: 0.7959 - accuracy: 0.5857 - val_loss: 9.1473 - val_accuracy: 0.0000e+00\n",
            "Epoch 37/50\n",
            "3/3 [==============================] - 2s 554ms/step - loss: 0.8530 - accuracy: 0.5857 - val_loss: 9.1455 - val_accuracy: 0.0000e+00\n",
            "Epoch 38/50\n",
            "3/3 [==============================] - 2s 557ms/step - loss: 0.8494 - accuracy: 0.5857 - val_loss: 9.3301 - val_accuracy: 0.0000e+00\n",
            "Epoch 39/50\n",
            "3/3 [==============================] - 2s 563ms/step - loss: 0.8087 - accuracy: 0.5571 - val_loss: 9.5134 - val_accuracy: 0.0000e+00\n",
            "Epoch 40/50\n",
            "3/3 [==============================] - 2s 563ms/step - loss: 0.7786 - accuracy: 0.6000 - val_loss: 9.6131 - val_accuracy: 0.0000e+00\n",
            "Epoch 41/50\n",
            "3/3 [==============================] - 2s 559ms/step - loss: 0.8311 - accuracy: 0.5857 - val_loss: 9.6392 - val_accuracy: 0.0000e+00\n",
            "Epoch 42/50\n",
            "3/3 [==============================] - 2s 552ms/step - loss: 0.8425 - accuracy: 0.5714 - val_loss: 9.6515 - val_accuracy: 0.0000e+00\n",
            "Epoch 43/50\n",
            "3/3 [==============================] - 2s 573ms/step - loss: 0.8096 - accuracy: 0.5714 - val_loss: 9.6671 - val_accuracy: 0.0000e+00\n",
            "Epoch 44/50\n",
            "3/3 [==============================] - 2s 568ms/step - loss: 0.7645 - accuracy: 0.5571 - val_loss: 9.6163 - val_accuracy: 0.0000e+00\n",
            "Epoch 45/50\n",
            "3/3 [==============================] - 2s 554ms/step - loss: 0.7373 - accuracy: 0.6000 - val_loss: 9.7593 - val_accuracy: 0.0000e+00\n",
            "Epoch 46/50\n",
            "3/3 [==============================] - 2s 561ms/step - loss: 0.7806 - accuracy: 0.6143 - val_loss: 9.9889 - val_accuracy: 0.0000e+00\n",
            "Epoch 47/50\n",
            "3/3 [==============================] - 2s 556ms/step - loss: 0.7796 - accuracy: 0.5857 - val_loss: 10.1805 - val_accuracy: 0.0000e+00\n",
            "Epoch 48/50\n",
            "3/3 [==============================] - 2s 558ms/step - loss: 0.7698 - accuracy: 0.6000 - val_loss: 10.1728 - val_accuracy: 0.0000e+00\n",
            "Epoch 49/50\n",
            "3/3 [==============================] - 2s 553ms/step - loss: 0.7808 - accuracy: 0.5857 - val_loss: 10.2253 - val_accuracy: 0.0000e+00\n",
            "Epoch 50/50\n",
            "3/3 [==============================] - 2s 562ms/step - loss: 0.7965 - accuracy: 0.5714 - val_loss: 10.2489 - val_accuracy: 0.0000e+00\n"
          ]
        }
      ]
    },
    {
      "cell_type": "code",
      "metadata": {
        "id": "4pSXFIWzpMKf"
      },
      "source": [
        "metrics = pd.DataFrame(model.history.history)"
      ],
      "execution_count": 75,
      "outputs": []
    },
    {
      "cell_type": "code",
      "metadata": {
        "colab": {
          "base_uri": "https://localhost:8080/",
          "height": 282
        },
        "id": "drwb8Tx4qR7x",
        "outputId": "81c60075-28dc-4045-968a-60cd8fc5432a"
      },
      "source": [
        "metrics[['loss','val_loss']].plot()"
      ],
      "execution_count": 76,
      "outputs": [
        {
          "output_type": "execute_result",
          "data": {
            "text/plain": [
              "<matplotlib.axes._subplots.AxesSubplot at 0x7fa76884b5d0>"
            ]
          },
          "metadata": {},
          "execution_count": 76
        },
        {
          "output_type": "display_data",
          "data": {
            "image/png": "[encoded data removed]",
            "text/plain": [
              "<Figure size 432x288 with 1 Axes>"
            ]
          },
          "metadata": {
            "needs_background": "light"
          }
        }
      ]
    },
    {
      "cell_type": "code",
      "metadata": {
        "colab": {
          "base_uri": "https://localhost:8080/",
          "height": 282
        },
        "id": "futF2OoBipxV",
        "outputId": "61a3634f-92fd-44fc-c69e-2bdf830806c0"
      },
      "source": [
        "metrics[['accuracy','val_accuracy']].plot()"
      ],
      "execution_count": 77,
      "outputs": [
        {
          "output_type": "execute_result",
          "data": {
            "text/plain": [
              "<matplotlib.axes._subplots.AxesSubplot at 0x7fa7688d4390>"
            ]
          },
          "metadata": {},
          "execution_count": 77
        },
        {
          "output_type": "display_data",
          "data": {
            "image/png": "[encoded data removed]",
            "text/plain": [
              "<Figure size 432x288 with 1 Axes>"
            ]
          },
          "metadata": {
            "needs_background": "light"
          }
        }
      ]
    },
    {
      "cell_type": "markdown",
      "metadata": {
        "id": "y2yUaALm1MJk"
      },
      "source": [
        "evaluating the model....."
      ]
    },
    {
      "cell_type": "code",
      "metadata": {
        "colab": {
          "base_uri": "https://localhost:8080/"
        },
        "id": "_my3TQVoqpCm",
        "outputId": "edffae55-bd86-411a-80c9-977f5bf5e452"
      },
      "source": [
        "model.evaluate(X_test,yte,verbose=0)"
      ],
      "execution_count": 78,
      "outputs": [
        {
          "output_type": "execute_result",
          "data": {
            "text/plain": [
              "[10.24894905090332, 0.0]"
            ]
          },
          "metadata": {},
          "execution_count": 78
        }
      ]
    },
    {
      "cell_type": "markdown",
      "metadata": {
        "id": "wjTrkSAX1PDs"
      },
      "source": [
        "Predicting the model...."
      ]
    },
    {
      "cell_type": "code",
      "metadata": {
        "id": "z6rNVOpoi_df"
      },
      "source": [
        "predictions = model.predict(X_test)"
      ],
      "execution_count": 79,
      "outputs": []
    },
    {
      "cell_type": "code",
      "metadata": {
        "id": "d68EFm4-jK_-"
      },
      "source": [
        "a = X_test[:1]"
      ],
      "execution_count": 80,
      "outputs": []
    },
    {
      "cell_type": "code",
      "metadata": {
        "colab": {
          "base_uri": "https://localhost:8080/"
        },
        "id": "A019fNFbjL5u",
        "outputId": "0000c812-dbee-4552-9436-0df2e9f07be0"
      },
      "source": [
        "a"
      ],
      "execution_count": 81,
      "outputs": [
        {
          "output_type": "execute_result",
          "data": {
            "text/plain": [
              "16    a sword believed to have belonged to a crusader who sailed to the holy land almost a millennium ago has been recovered from the mediterranean seabed. \\nthe location suggests it had served as a shelter for seafarers. \\nthe metre-long relic, encrusted with marine organisms, will be put on display after it has been cleaned and restored.\n",
              "Name: summary, dtype: object"
            ]
          },
          "metadata": {},
          "execution_count": 81
        }
      ]
    },
    {
      "cell_type": "code",
      "metadata": {
        "id": "AevZC818jRe1"
      },
      "source": [
        "h = model.predict(a)"
      ],
      "execution_count": 82,
      "outputs": []
    },
    {
      "cell_type": "code",
      "metadata": {
        "colab": {
          "base_uri": "https://localhost:8080/"
        },
        "id": "rrzW5fIWjSlf",
        "outputId": "6c6d0f7f-e6a6-4141-ab15-ff58d4af1d6b"
      },
      "source": [
        "np.argmax(h)"
      ],
      "execution_count": 83,
      "outputs": [
        {
          "output_type": "execute_result",
          "data": {
            "text/plain": [
              "8"
            ]
          },
          "metadata": {},
          "execution_count": 83
        }
      ]
    },
    {
      "cell_type": "code",
      "metadata": {
        "id": "Bmvpn4EHjhGN"
      },
      "source": [
        "group = df.groupby(['topicName','topicID'])"
      ],
      "execution_count": 84,
      "outputs": []
    },
    {
      "cell_type": "code",
      "metadata": {
        "colab": {
          "base_uri": "https://localhost:8080/",
          "height": 1000
        },
        "id": "ZL-sV2ORjoy6",
        "outputId": "c1beb795-5611-4c63-fab6-96475a08f4a6"
      },
      "source": [
        "group.first()"
      ],
      "execution_count": 85,
      "outputs": [
        {
          "output_type": "execute_result",
          "data": {
            "text/html": [
              "<div>\n",
              "<style scoped>\n",
              "    .dataframe tbody tr th:only-of-type {\n",
              "        vertical-align: middle;\n",
              "    }\n",
              "\n",
              "    .dataframe tbody tr th {\n",
              "        vertical-align: top;\n",
              "    }\n",
              "\n",
              "    .dataframe thead th {\n",
              "        text-align: right;\n",
              "    }\n",
              "</style>\n",
              "<table border=\"1\" class=\"dataframe\">\n",
              "  <thead>\n",
              "    <tr style=\"text-align: right;\">\n",
              "      <th></th>\n",
              "      <th></th>\n",
              "      <th>id</th>\n",
              "      <th>summary</th>\n",
              "    </tr>\n",
              "    <tr>\n",
              "      <th>topicName</th>\n",
              "      <th>topicID</th>\n",
              "      <th></th>\n",
              "      <th></th>\n",
              "    </tr>\n",
              "  </thead>\n",
              "  <tbody>\n",
              "    <tr>\n",
              "      <th>Africa</th>\n",
              "      <th>11</th>\n",
              "      <td>26897</td>\n",
              "      <td>gunmen from a suspected criminal gang attacked a village market in northwest nigeria's sokoto state, killing 43 people.\\nsince last month, nigerian troops have been conducting air and ground operations against bandit camps in zamfara state.\\nsokoto officials are worried that bandits are relocating to the state as a result of zamfara operations.</td>\n",
              "    </tr>\n",
              "    <tr>\n",
              "      <th>Art and Culture</th>\n",
              "      <th>16</th>\n",
              "      <td>26896</td>\n",
              "      <td>a street artist mundano painted a giant mural in sao paolo using the ashes he collected from the burned rainforest, in order to raise awareness about climate change.\\nthe giant 1,000-square-meter mural, titled \"the forest firefighter,\" features a heroic character helplessly facing a raging fire.\\nmundano used 200kgs of ashes to create the mural.</td>\n",
              "    </tr>\n",
              "    <tr>\n",
              "      <th>Asia</th>\n",
              "      <th>9</th>\n",
              "      <td>26881</td>\n",
              "      <td>north korea fired a ballistic missile into the sea in a continuation of its recent weapons tests.\\nthe launch came hours after the u.s. reaffirmed its offer to resume diplomacy on the north’s nuclear weapons program.\\nthe south korean and japanese militaries didn’t immediately say what kind of ballistic missile the north fired.</td>\n",
              "    </tr>\n",
              "    <tr>\n",
              "      <th>Business</th>\n",
              "      <th>5</th>\n",
              "      <td>26885</td>\n",
              "      <td>the exchange-traded fund will begin trading on tuesday on the nyse under the \"bito\" ticker symbol. \\nbito can be bought and sold like a stock and doesn't require investors to hold an account at a cryptocurrency exchange or to have a crypto wallet. \\nthe arrival of the etf comes as bitcoin has shattered the $1 trillion market capitalization threshold.</td>\n",
              "    </tr>\n",
              "    <tr>\n",
              "      <th>Crypto Currency</th>\n",
              "      <th>32</th>\n",
              "      <td>26888</td>\n",
              "      <td>the attackers post convincing fake profiles on legitimate dating sites. \\nonce they've made contact with a target, the attackers suggest continuing the conversation on a messaging platform and then, try to persuade the target to invest in a fake crypto trading app. \\nin addition to stealing money, the attackers can also gain access to victims' iphones.</td>\n",
              "    </tr>\n",
              "    <tr>\n",
              "      <th>Europe</th>\n",
              "      <th>8</th>\n",
              "      <td>26890</td>\n",
              "      <td>a sword believed to have belonged to a crusader who sailed to the holy land almost a millennium ago has been recovered from the mediterranean seabed. \\nthe location suggests it had served as a shelter for seafarers. \\nthe metre-long relic, encrusted with marine organisms, will be put on display after it has been cleaned and restored.</td>\n",
              "    </tr>\n",
              "    <tr>\n",
              "      <th>Gender Equality</th>\n",
              "      <th>15</th>\n",
              "      <td>26892</td>\n",
              "      <td>astronauts began saturday their 6-month mission on china's first permanent space station.\\nthe new crew includes 2 veterans of space travel, zhai zhigang and wang yaping, and ye guangfu, who is making his first trip to space.\\nwang is the first chinese woman to board the tiangong space station and is expected to become china's first female spacewalker.</td>\n",
              "    </tr>\n",
              "    <tr>\n",
              "      <th>Global health</th>\n",
              "      <th>7</th>\n",
              "      <td>26884</td>\n",
              "      <td>south african said it will not approve russia's sputnik v vaccine because of concerns it could increase the risk of hiv infection among men.\\nthe decision was based on earlier studies testing the safety of a modified form of adenovirus in the russian jab.\\nwho has not approved sputnik v for emergency use, although it is used in some countries.</td>\n",
              "    </tr>\n",
              "    <tr>\n",
              "      <th>Habitat</th>\n",
              "      <th>6</th>\n",
              "      <td>26896</td>\n",
              "      <td>a street artist mundano painted a giant mural in sao paolo using the ashes he collected from the burned rainforest, in order to raise awareness about climate change.\\nthe giant 1,000-square-meter mural, titled \"the forest firefighter,\" features a heroic character helplessly facing a raging fire.\\nmundano used 200kgs of ashes to create the mural.</td>\n",
              "    </tr>\n",
              "    <tr>\n",
              "      <th>Happy news</th>\n",
              "      <th>21</th>\n",
              "      <td>26893</td>\n",
              "      <td>the uk government is making another push towards electric vehicles in its latest strategy to make the great shift to a virtually zero-carbon economy.\\nministers are investing £620m in grants for electric vehicles and street charging points.\\ncar makers will be mandated to sell a proportion of clean vehicles each year.</td>\n",
              "    </tr>\n",
              "    <tr>\n",
              "      <th>Human Rights</th>\n",
              "      <th>26</th>\n",
              "      <td>26895</td>\n",
              "      <td>the us is “very concerned” about china’s development of hypersonic technology after reports that beijing had recently launched a hypersonic missile with a nuclear capacity. \\n\"we just don’t know how we can defend against that type of technology. neither does china or russia\", the us disarmament ambassador said. \\nbeijing said the report was inaccurate.</td>\n",
              "    </tr>\n",
              "    <tr>\n",
              "      <th>Human Stories</th>\n",
              "      <th>33</th>\n",
              "      <td>26889</td>\n",
              "      <td>nine schools in north ayrshire began taking payments for school lunches this week by scanning the faces of their pupils, according to a report in the financial times. \\nthe ico urged a “less intrusive” approach where possible. \\nthe company supplying the technology claimed it was more covid-secure than other systems and sped up the lunch queue.</td>\n",
              "    </tr>\n",
              "    <tr>\n",
              "      <th>Latin America</th>\n",
              "      <th>18</th>\n",
              "      <td>26886</td>\n",
              "      <td>brazilians have bought over $4 billion in cryptocurrencies in 2021 so far, the country’s central bank said. \\nthe country’s legislature passed a bill to regulate bitcoin and other cryptocurrencies in september. \\nwhile the bill doesn’t make bitcoin \"legal tender\", it does put in place a framework that will make it easier to invest in cryptocurrencies.</td>\n",
              "    </tr>\n",
              "    <tr>\n",
              "      <th>Local News</th>\n",
              "      <th>20</th>\n",
              "      <td>26899</td>\n",
              "      <td>uttarakhand has been battered by rains since sunday, leading to floods, landslides, and the destruction of property.\\nnainital has been cut off from the rest of the state as three roads leading to the town have been blocked following landslides.\\nthe death toll in uttarakhand has now risen to 23, with 13 fatalities reported from the nainital district.</td>\n",
              "    </tr>\n",
              "    <tr>\n",
              "      <th>Middle East</th>\n",
              "      <th>12</th>\n",
              "      <td>26890</td>\n",
              "      <td>a sword believed to have belonged to a crusader who sailed to the holy land almost a millennium ago has been recovered from the mediterranean seabed. \\nthe location suggests it had served as a shelter for seafarers. \\nthe metre-long relic, encrusted with marine organisms, will be put on display after it has been cleaned and restored.</td>\n",
              "    </tr>\n",
              "    <tr>\n",
              "      <th>North America</th>\n",
              "      <th>10</th>\n",
              "      <td>26867</td>\n",
              "      <td>the termination of washington state university’s head football coach rolovich came as a state covid-19 vaccine mandate was set to go into effect.\\nthe mandate requires health care workers, public employees and others to get inoculated.\\nthe university said its priority is the health and well-being of the young men on the team.</td>\n",
              "    </tr>\n",
              "    <tr>\n",
              "      <th>Politics</th>\n",
              "      <th>3</th>\n",
              "      <td>26881</td>\n",
              "      <td>north korea fired a ballistic missile into the sea in a continuation of its recent weapons tests.\\nthe launch came hours after the u.s. reaffirmed its offer to resume diplomacy on the north’s nuclear weapons program.\\nthe south korean and japanese militaries didn’t immediately say what kind of ballistic missile the north fired.</td>\n",
              "    </tr>\n",
              "    <tr>\n",
              "      <th>Science</th>\n",
              "      <th>25</th>\n",
              "      <td>26895</td>\n",
              "      <td>the us is “very concerned” about china’s development of hypersonic technology after reports that beijing had recently launched a hypersonic missile with a nuclear capacity. \\n\"we just don’t know how we can defend against that type of technology. neither does china or russia\", the us disarmament ambassador said. \\nbeijing said the report was inaccurate.</td>\n",
              "    </tr>\n",
              "    <tr>\n",
              "      <th>Social Movements</th>\n",
              "      <th>19</th>\n",
              "      <td>26874</td>\n",
              "      <td>protesters have marched in san salvador against the actions of president nayib bukele’s government, including the move to make bitcoin legal tender in the country.\\nbukele downplayed the discontent, even saying protesters had harassed bystanders who did not participate in the march.\\nhe also changed his twitter profile to “emperor of el salvador”.</td>\n",
              "    </tr>\n",
              "    <tr>\n",
              "      <th>Sports</th>\n",
              "      <th>2</th>\n",
              "      <td>26867</td>\n",
              "      <td>the termination of washington state university’s head football coach rolovich came as a state covid-19 vaccine mandate was set to go into effect.\\nthe mandate requires health care workers, public employees and others to get inoculated.\\nthe university said its priority is the health and well-being of the young men on the team.</td>\n",
              "    </tr>\n",
              "    <tr>\n",
              "      <th>Technology</th>\n",
              "      <th>13</th>\n",
              "      <td>26895</td>\n",
              "      <td>the us is “very concerned” about china’s development of hypersonic technology after reports that beijing had recently launched a hypersonic missile with a nuclear capacity. \\n\"we just don’t know how we can defend against that type of technology. neither does china or russia\", the us disarmament ambassador said. \\nbeijing said the report was inaccurate.</td>\n",
              "    </tr>\n",
              "    <tr>\n",
              "      <th>Travel</th>\n",
              "      <th>14</th>\n",
              "      <td>26871</td>\n",
              "      <td>the move comes over allegations that it is transporting migrants from iraq in order to push them across the country's border into the bloc.\\nseveral ministers want to stop eu-registered companies leasing aircraft to belavia.\\nthe humanitarian situation on the eu's border with belarus continues to worsen, with seven migrants known to have died.</td>\n",
              "    </tr>\n",
              "  </tbody>\n",
              "</table>\n",
              "</div>"
            ],
            "text/plain": [
              "                             id                                                                                                                                                                                                                                                                                                                                                             summary\n",
              "topicName        topicID                                                                                                                                                                                                                                                                                                                                                                           \n",
              "Africa           11       26897  gunmen from a suspected criminal gang attacked a village market in northwest nigeria's sokoto state, killing 43 people.\\nsince last month, nigerian troops have been conducting air and ground operations against bandit camps in zamfara state.\\nsokoto officials are worried that bandits are relocating to the state as a result of zamfara operations.        \n",
              "Art and Culture  16       26896  a street artist mundano painted a giant mural in sao paolo using the ashes he collected from the burned rainforest, in order to raise awareness about climate change.\\nthe giant 1,000-square-meter mural, titled \"the forest firefighter,\" features a heroic character helplessly facing a raging fire.\\nmundano used 200kgs of ashes to create the mural.       \n",
              "Asia             9        26881  north korea fired a ballistic missile into the sea in a continuation of its recent weapons tests.\\nthe launch came hours after the u.s. reaffirmed its offer to resume diplomacy on the north’s nuclear weapons program.\\nthe south korean and japanese militaries didn’t immediately say what kind of ballistic missile the north fired.                         \n",
              "Business         5        26885  the exchange-traded fund will begin trading on tuesday on the nyse under the \"bito\" ticker symbol. \\nbito can be bought and sold like a stock and doesn't require investors to hold an account at a cryptocurrency exchange or to have a crypto wallet. \\nthe arrival of the etf comes as bitcoin has shattered the $1 trillion market capitalization threshold.  \n",
              "Crypto Currency  32       26888  the attackers post convincing fake profiles on legitimate dating sites. \\nonce they've made contact with a target, the attackers suggest continuing the conversation on a messaging platform and then, try to persuade the target to invest in a fake crypto trading app. \\nin addition to stealing money, the attackers can also gain access to victims' iphones.\n",
              "Europe           8        26890  a sword believed to have belonged to a crusader who sailed to the holy land almost a millennium ago has been recovered from the mediterranean seabed. \\nthe location suggests it had served as a shelter for seafarers. \\nthe metre-long relic, encrusted with marine organisms, will be put on display after it has been cleaned and restored.                   \n",
              "Gender Equality  15       26892  astronauts began saturday their 6-month mission on china's first permanent space station.\\nthe new crew includes 2 veterans of space travel, zhai zhigang and wang yaping, and ye guangfu, who is making his first trip to space.\\nwang is the first chinese woman to board the tiangong space station and is expected to become china's first female spacewalker.\n",
              "Global health    7        26884  south african said it will not approve russia's sputnik v vaccine because of concerns it could increase the risk of hiv infection among men.\\nthe decision was based on earlier studies testing the safety of a modified form of adenovirus in the russian jab.\\nwho has not approved sputnik v for emergency use, although it is used in some countries.         \n",
              "Habitat          6        26896  a street artist mundano painted a giant mural in sao paolo using the ashes he collected from the burned rainforest, in order to raise awareness about climate change.\\nthe giant 1,000-square-meter mural, titled \"the forest firefighter,\" features a heroic character helplessly facing a raging fire.\\nmundano used 200kgs of ashes to create the mural.       \n",
              "Happy news       21       26893  the uk government is making another push towards electric vehicles in its latest strategy to make the great shift to a virtually zero-carbon economy.\\nministers are investing £620m in grants for electric vehicles and street charging points.\\ncar makers will be mandated to sell a proportion of clean vehicles each year.                                   \n",
              "Human Rights     26       26895  the us is “very concerned” about china’s development of hypersonic technology after reports that beijing had recently launched a hypersonic missile with a nuclear capacity. \\n\"we just don’t know how we can defend against that type of technology. neither does china or russia\", the us disarmament ambassador said. \\nbeijing said the report was inaccurate.\n",
              "Human Stories    33       26889  nine schools in north ayrshire began taking payments for school lunches this week by scanning the faces of their pupils, according to a report in the financial times. \\nthe ico urged a “less intrusive” approach where possible. \\nthe company supplying the technology claimed it was more covid-secure than other systems and sped up the lunch queue.        \n",
              "Latin America    18       26886  brazilians have bought over $4 billion in cryptocurrencies in 2021 so far, the country’s central bank said. \\nthe country’s legislature passed a bill to regulate bitcoin and other cryptocurrencies in september. \\nwhile the bill doesn’t make bitcoin \"legal tender\", it does put in place a framework that will make it easier to invest in cryptocurrencies. \n",
              "Local News       20       26899  uttarakhand has been battered by rains since sunday, leading to floods, landslides, and the destruction of property.\\nnainital has been cut off from the rest of the state as three roads leading to the town have been blocked following landslides.\\nthe death toll in uttarakhand has now risen to 23, with 13 fatalities reported from the nainital district. \n",
              "Middle East      12       26890  a sword believed to have belonged to a crusader who sailed to the holy land almost a millennium ago has been recovered from the mediterranean seabed. \\nthe location suggests it had served as a shelter for seafarers. \\nthe metre-long relic, encrusted with marine organisms, will be put on display after it has been cleaned and restored.                   \n",
              "North America    10       26867  the termination of washington state university’s head football coach rolovich came as a state covid-19 vaccine mandate was set to go into effect.\\nthe mandate requires health care workers, public employees and others to get inoculated.\\nthe university said its priority is the health and well-being of the young men on the team.                          \n",
              "Politics         3        26881  north korea fired a ballistic missile into the sea in a continuation of its recent weapons tests.\\nthe launch came hours after the u.s. reaffirmed its offer to resume diplomacy on the north’s nuclear weapons program.\\nthe south korean and japanese militaries didn’t immediately say what kind of ballistic missile the north fired.                         \n",
              "Science          25       26895  the us is “very concerned” about china’s development of hypersonic technology after reports that beijing had recently launched a hypersonic missile with a nuclear capacity. \\n\"we just don’t know how we can defend against that type of technology. neither does china or russia\", the us disarmament ambassador said. \\nbeijing said the report was inaccurate.\n",
              "Social Movements 19       26874  protesters have marched in san salvador against the actions of president nayib bukele’s government, including the move to make bitcoin legal tender in the country.\\nbukele downplayed the discontent, even saying protesters had harassed bystanders who did not participate in the march.\\nhe also changed his twitter profile to “emperor of el salvador”.     \n",
              "Sports           2        26867  the termination of washington state university’s head football coach rolovich came as a state covid-19 vaccine mandate was set to go into effect.\\nthe mandate requires health care workers, public employees and others to get inoculated.\\nthe university said its priority is the health and well-being of the young men on the team.                          \n",
              "Technology       13       26895  the us is “very concerned” about china’s development of hypersonic technology after reports that beijing had recently launched a hypersonic missile with a nuclear capacity. \\n\"we just don’t know how we can defend against that type of technology. neither does china or russia\", the us disarmament ambassador said. \\nbeijing said the report was inaccurate.\n",
              "Travel           14       26871  the move comes over allegations that it is transporting migrants from iraq in order to push them across the country's border into the bloc.\\nseveral ministers want to stop eu-registered companies leasing aircraft to belavia.\\nthe humanitarian situation on the eu's border with belarus continues to worsen, with seven migrants known to have died.         "
            ]
          },
          "metadata": {},
          "execution_count": 85
        }
      ]
    },
    {
      "cell_type": "markdown",
      "metadata": {
        "id": "E3BsVqi862fH"
      },
      "source": [
        "Saving the model...."
      ]
    },
    {
      "cell_type": "code",
      "metadata": {
        "id": "2K-JeuxB61cM",
        "colab": {
          "base_uri": "https://localhost:8080/"
        },
        "outputId": "966cba63-d940-4ee5-84d3-349b7318ba6e"
      },
      "source": [
        "!mkdir -p saved_model\n",
        "model.save('saved_model/text_classification2')"
      ],
      "execution_count": 86,
      "outputs": [
        {
          "output_type": "stream",
          "name": "stdout",
          "text": [
            "INFO:tensorflow:Assets written to: saved_model/text_classification2/assets\n"
          ]
        },
        {
          "output_type": "stream",
          "name": "stderr",
          "text": [
            "INFO:tensorflow:Assets written to: saved_model/text_classification2/assets\n"
          ]
        }
      ]
    },
    {
      "cell_type": "markdown",
      "metadata": {
        "id": "vjckBbHSkD33"
      },
      "source": [
        "Importing the saved model"
      ]
    },
    {
      "cell_type": "code",
      "metadata": {
        "id": "bIlasmI6kADg"
      },
      "source": [
        "import tensorflow as tf"
      ],
      "execution_count": 87,
      "outputs": []
    },
    {
      "cell_type": "code",
      "metadata": {
        "id": "Cs4H7fikkJPx"
      },
      "source": [
        "hash = tf.keras.models.load_model('saved_model/text_classification2')"
      ],
      "execution_count": 88,
      "outputs": []
    },
    {
      "cell_type": "code",
      "metadata": {
        "colab": {
          "base_uri": "https://localhost:8080/"
        },
        "id": "jpO4LsxUlYTw",
        "outputId": "feeb6553-396b-40cb-b44c-041c6ba1d57d"
      },
      "source": [
        "pd.set_option(\"display.max_colwidth\", -1)"
      ],
      "execution_count": 89,
      "outputs": [
        {
          "output_type": "stream",
          "name": "stderr",
          "text": [
            "/usr/local/lib/python3.7/dist-packages/ipykernel_launcher.py:1: FutureWarning: Passing a negative integer is deprecated in version 1.0 and will not be supported in future version. Instead, use None to not limit the column width.\n",
            "  \"\"\"Entry point for launching an IPython kernel.\n"
          ]
        }
      ]
    },
    {
      "cell_type": "code",
      "metadata": {
        "id": "kxMfH7RFkyHU"
      },
      "source": [
        "k = X_test[9:10]"
      ],
      "execution_count": 90,
      "outputs": []
    },
    {
      "cell_type": "code",
      "metadata": {
        "colab": {
          "base_uri": "https://localhost:8080/"
        },
        "id": "UN2zcrbSlk5f",
        "outputId": "a449def5-7c2b-4d81-9f74-a455d3f9332e"
      },
      "source": [
        "print(k)"
      ],
      "execution_count": 91,
      "outputs": [
        {
          "output_type": "stream",
          "name": "stdout",
          "text": [
            "41    sri lanka backed down from ambitious plans to become the world's first completely organic farming nation, reversing a ban on imports of chemical fertiliser.\\nas the quality of tea produced in factories dropped, the govt decided to import sulphate of ammonia.\\nimports of chemical fertiliser would continue until they produce enough organic fertiliser.\n",
            "Name: summary, dtype: object\n"
          ]
        }
      ]
    },
    {
      "cell_type": "code",
      "metadata": {
        "id": "4yipyPN6kjZF"
      },
      "source": [
        "m = hash.predict(k)"
      ],
      "execution_count": 92,
      "outputs": []
    },
    {
      "cell_type": "code",
      "metadata": {
        "colab": {
          "base_uri": "https://localhost:8080/"
        },
        "id": "EUZzGPXBkoFQ",
        "outputId": "cdc32388-5297-48b5-bf4e-7b8e6f3ffad6"
      },
      "source": [
        "np.argmax(m)"
      ],
      "execution_count": 93,
      "outputs": [
        {
          "output_type": "execute_result",
          "data": {
            "text/plain": [
              "9"
            ]
          },
          "metadata": {},
          "execution_count": 93
        }
      ]
    },
    {
      "cell_type": "code",
      "metadata": {
        "id": "jcv7qBAApuoe"
      },
      "source": [
        "l=[\"Ahead of his bail hearing today, the Narcotics Control Bureau (NCB) has submitted a chat between Aryan Khan and an actress in which they discussed drugs. A Mumbai court had reserved order for October 20 on bail applications of Aryan and his co-accused in the Mumbai cruise drugs case\"]"
      ],
      "execution_count": 94,
      "outputs": []
    },
    {
      "cell_type": "code",
      "metadata": {
        "id": "cqgH2-NVnC9f"
      },
      "source": [
        "u = hash.predict(l)"
      ],
      "execution_count": 95,
      "outputs": []
    },
    {
      "cell_type": "code",
      "metadata": {
        "colab": {
          "base_uri": "https://localhost:8080/"
        },
        "id": "cQ2qnECbnGDH",
        "outputId": "dd8e91d1-11ad-4d8e-a159-9482cf38a315"
      },
      "source": [
        "np.argmax(u)"
      ],
      "execution_count": 96,
      "outputs": [
        {
          "output_type": "execute_result",
          "data": {
            "text/plain": [
              "26"
            ]
          },
          "metadata": {},
          "execution_count": 96
        }
      ]
    }
  ]
}

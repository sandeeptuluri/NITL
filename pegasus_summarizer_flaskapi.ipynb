from transformers import PegasusTokenizer, TFPegasusForConditionalGeneration

model = TFPegasusForConditionalGeneration.from_pretrained('google/pegasus-xsum')
tokenizer = PegasusTokenizer.from_pretrained('google/pegasus-xsum')

ARTICLE_TO_SUMMARIZE = (
"PG&E stated it scheduled the blackouts in response to forecasts for high winds "
"amid dry conditions. The aim is to reduce the risk of wildfires. Nearly 800 thousand customers were "
"scheduled to be affected by the shutoffs which were expected to last through at least midday tomorrow."
)
inputs = tokenizer([ARTICLE_TO_SUMMARIZE], max_length=1024, return_tensors='tf')

# Generate Summary
summary_ids = model.generate(inputs['input_ids'])
print([tokenizer.decode(g, skip_special_tokens=True, clean_up_tokenization_spaces=False) for g in summary_ids])



from keybert import KeyBERT
from textblob import TextBlob
from newspaper import Article
from flask import Flask, request, render_template, jsonify
from transformers import pipeline

app = Flask(__name__)
@app.route('/')
def main():
    return render_template("ks.html")

@app.route('/result', methods=['POST','GET'])
def keywords():
    url = request.form['Link']
    article = Article(url)
    article.download()
    article.parse()
    article.nlp()
    kb = KeyBERT('distilbert-base-nli-mean-tokens')
    keywords = kb.extract_keywords(article.text, stop_words='english')

    analysis = TextBlob(article.text)
    a = analysis.polarity
    def type():
        if (a>0.2):
            return("Positive")
        elif (a<0):
            return("Negative")
        else:
            return("Neutral")

    c=type()

    summarizer = pipeline("summarization", model="t5-base", tokenizer="t5-base", framework="tf")
    summary = summarizer(article.text, min_length=60)

    dc = {}
    dc['KEYWORDS']=keywords
    dc['SENTIMENT']=c
    dc['Summary']=summary

    return jsonify({'final' : dc})
if __name__ == '__main__':
    app.run(host="127.0.0.1",port=8080,debug=True)
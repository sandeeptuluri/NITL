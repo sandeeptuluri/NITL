{
 "cells": [
  {
   "cell_type": "code",
   "execution_count": 1,
   "id": "5d2eb4fc",
   "metadata": {},
   "outputs": [],
   "source": [
    "from keybert import KeyBERT"
   ]
  },
  {
   "cell_type": "code",
   "execution_count": 2,
   "id": "eedd1bb0",
   "metadata": {},
   "outputs": [],
   "source": [
    "import numpy as np\n",
    "import pandas as pd\n",
    "from newspaper import Article"
   ]
  },
  {
   "cell_type": "code",
   "execution_count": 3,
   "id": "0ed4c8c9",
   "metadata": {},
   "outputs": [],
   "source": [
    "import string\n",
    "import nltk"
   ]
  },
  {
   "cell_type": "code",
   "execution_count": 4,
   "id": "d5abe073",
   "metadata": {},
   "outputs": [
    {
     "name": "stderr",
     "output_type": "stream",
     "text": [
      "[nltk_data] Downloading package punkt to\n",
      "[nltk_data]     C:\\Users\\Sandeep\\AppData\\Roaming\\nltk_data...\n",
      "[nltk_data]   Package punkt is already up-to-date!\n"
     ]
    },
    {
     "data": {
      "text/plain": [
       "True"
      ]
     },
     "execution_count": 4,
     "metadata": {},
     "output_type": "execute_result"
    }
   ],
   "source": [
    "nltk.download('punkt')"
   ]
  },
  {
   "cell_type": "code",
   "execution_count": 5,
   "id": "d84a9b0d",
   "metadata": {},
   "outputs": [],
   "source": [
    "df = pd.read_csv('extract_charity.csv', low_memory=False)"
   ]
  },
  {
   "cell_type": "code",
   "execution_count": 6,
   "id": "a9ef2181",
   "metadata": {},
   "outputs": [
    {
     "data": {
      "text/html": [
       "<div>\n",
       "<style scoped>\n",
       "    .dataframe tbody tr th:only-of-type {\n",
       "        vertical-align: middle;\n",
       "    }\n",
       "\n",
       "    .dataframe tbody tr th {\n",
       "        vertical-align: top;\n",
       "    }\n",
       "\n",
       "    .dataframe thead th {\n",
       "        text-align: right;\n",
       "    }\n",
       "</style>\n",
       "<table border=\"1\" class=\"dataframe\">\n",
       "  <thead>\n",
       "    <tr style=\"text-align: right;\">\n",
       "      <th></th>\n",
       "      <th>regno</th>\n",
       "      <th>subno</th>\n",
       "      <th>name</th>\n",
       "      <th>orgtype</th>\n",
       "      <th>gd</th>\n",
       "      <th>aob</th>\n",
       "      <th>aob_defined</th>\n",
       "      <th>nhs</th>\n",
       "      <th>ha_no</th>\n",
       "      <th>corr</th>\n",
       "      <th>...</th>\n",
       "      <th>add2</th>\n",
       "      <th>add3</th>\n",
       "      <th>add4</th>\n",
       "      <th>add5</th>\n",
       "      <th>postcode</th>\n",
       "      <th>phone</th>\n",
       "      <th>fax</th>\n",
       "      <th>Unnamed: 18</th>\n",
       "      <th>Unnamed: 19</th>\n",
       "      <th>Unnamed: 20</th>\n",
       "    </tr>\n",
       "  </thead>\n",
       "  <tbody>\n",
       "    <tr>\n",
       "      <th>15685</th>\n",
       "      <td>1100981</td>\n",
       "      <td>0</td>\n",
       "      <td>INTERCLIMATE TRUST</td>\n",
       "      <td>R</td>\n",
       "      <td>MEMORANDUM AND ARTICLES OF ASSOCIATION INCORPO...</td>\n",
       "      <td>WORLDWIDE</td>\n",
       "      <td>NaN</td>\n",
       "      <td>F</td>\n",
       "      <td>NaN</td>\n",
       "      <td>NaN</td>\n",
       "      <td>...</td>\n",
       "      <td>St James House</td>\n",
       "      <td>St James Square</td>\n",
       "      <td>Cheltenham</td>\n",
       "      <td>NaN</td>\n",
       "      <td>GL50 3PR</td>\n",
       "      <td>2089936683</td>\n",
       "      <td>NaN</td>\n",
       "      <td>NaN</td>\n",
       "      <td>NaN</td>\n",
       "      <td>NaN</td>\n",
       "    </tr>\n",
       "    <tr>\n",
       "      <th>16940</th>\n",
       "      <td>1102225</td>\n",
       "      <td>0</td>\n",
       "      <td>CLIMATE OUTREACH INFORMATION NETWORK          ...</td>\n",
       "      <td>RM</td>\n",
       "      <td>DECLARATION OF TRUST DATED 13 MARCH 2003 AS AM...</td>\n",
       "      <td>NOT DEFINED</td>\n",
       "      <td>NaN</td>\n",
       "      <td>F</td>\n",
       "      <td>NaN</td>\n",
       "      <td>NaN</td>\n",
       "      <td>...</td>\n",
       "      <td>NaN</td>\n",
       "      <td>NaN</td>\n",
       "      <td>NaN</td>\n",
       "      <td>NaN</td>\n",
       "      <td>NaN</td>\n",
       "      <td>NaN</td>\n",
       "      <td>NaN</td>\n",
       "      <td>NaN</td>\n",
       "      <td>NaN</td>\n",
       "      <td>NaN</td>\n",
       "    </tr>\n",
       "    <tr>\n",
       "      <th>17625</th>\n",
       "      <td>1102909</td>\n",
       "      <td>0</td>\n",
       "      <td>THE CLIMATE CHANGE ORGANISATION</td>\n",
       "      <td>R</td>\n",
       "      <td>MEMORANDUM AND ARTICLES OF ASSOCIATION INCORPO...</td>\n",
       "      <td>NOT DEFINED. IN PRACTICE WORLDWIDE</td>\n",
       "      <td>NaN</td>\n",
       "      <td>F</td>\n",
       "      <td>NaN</td>\n",
       "      <td>NaN</td>\n",
       "      <td>...</td>\n",
       "      <td>7-10 ADAM STREET</td>\n",
       "      <td>LONDON</td>\n",
       "      <td>NaN</td>\n",
       "      <td>NaN</td>\n",
       "      <td>WC2N 6AA</td>\n",
       "      <td>2079602990</td>\n",
       "      <td>NaN</td>\n",
       "      <td>NaN</td>\n",
       "      <td>NaN</td>\n",
       "      <td>NaN</td>\n",
       "    </tr>\n",
       "    <tr>\n",
       "      <th>22384</th>\n",
       "      <td>1107577</td>\n",
       "      <td>0</td>\n",
       "      <td>CLIMATE PARLIAMENT</td>\n",
       "      <td>R</td>\n",
       "      <td>MEMORANDUM &amp;amp; ARTICLES OF ASSOCIATION INCOR...</td>\n",
       "      <td>WORLDWIDE</td>\n",
       "      <td>NaN</td>\n",
       "      <td>F</td>\n",
       "      <td>NaN</td>\n",
       "      <td>NaN</td>\n",
       "      <td>...</td>\n",
       "      <td>Brighton</td>\n",
       "      <td>NaN</td>\n",
       "      <td>NaN</td>\n",
       "      <td>NaN</td>\n",
       "      <td>BN2 5RF</td>\n",
       "      <td>1273239144</td>\n",
       "      <td>NaN</td>\n",
       "      <td>NaN</td>\n",
       "      <td>NaN</td>\n",
       "      <td>NaN</td>\n",
       "    </tr>\n",
       "    <tr>\n",
       "      <th>24883</th>\n",
       "      <td>1109973</td>\n",
       "      <td>0</td>\n",
       "      <td>THE CLIMATE MOVEMENT</td>\n",
       "      <td>R</td>\n",
       "      <td>MEMORANDUM AND ARTICLES OF ASSOCIATION INCORPO...</td>\n",
       "      <td>NOT DEFINED. IN PRACTICE. WORLDWIDE</td>\n",
       "      <td>NaN</td>\n",
       "      <td>F</td>\n",
       "      <td>NaN</td>\n",
       "      <td>NaN</td>\n",
       "      <td>...</td>\n",
       "      <td>c/o CAFOD, Romero House</td>\n",
       "      <td>55 Westminster Bridge Road</td>\n",
       "      <td>LONDON</td>\n",
       "      <td>NaN</td>\n",
       "      <td>SE1 7JB</td>\n",
       "      <td>2078029989</td>\n",
       "      <td>NaN</td>\n",
       "      <td>NaN</td>\n",
       "      <td>NaN</td>\n",
       "      <td>NaN</td>\n",
       "    </tr>\n",
       "  </tbody>\n",
       "</table>\n",
       "<p>5 rows × 21 columns</p>\n",
       "</div>"
      ],
      "text/plain": [
       "         regno subno                                               name  \\\n",
       "15685  1100981     0                                 INTERCLIMATE TRUST   \n",
       "16940  1102225     0  CLIMATE OUTREACH INFORMATION NETWORK          ...   \n",
       "17625  1102909     0                    THE CLIMATE CHANGE ORGANISATION   \n",
       "22384  1107577     0                                 CLIMATE PARLIAMENT   \n",
       "24883  1109973     0                               THE CLIMATE MOVEMENT   \n",
       "\n",
       "      orgtype                                                 gd  \\\n",
       "15685       R  MEMORANDUM AND ARTICLES OF ASSOCIATION INCORPO...   \n",
       "16940      RM  DECLARATION OF TRUST DATED 13 MARCH 2003 AS AM...   \n",
       "17625       R  MEMORANDUM AND ARTICLES OF ASSOCIATION INCORPO...   \n",
       "22384       R  MEMORANDUM &amp; ARTICLES OF ASSOCIATION INCOR...   \n",
       "24883       R  MEMORANDUM AND ARTICLES OF ASSOCIATION INCORPO...   \n",
       "\n",
       "                                       aob aob_defined nhs ha_no corr  ...  \\\n",
       "15685                            WORLDWIDE         NaN   F   NaN  NaN  ...   \n",
       "16940                          NOT DEFINED         NaN   F   NaN  NaN  ...   \n",
       "17625   NOT DEFINED. IN PRACTICE WORLDWIDE         NaN   F   NaN  NaN  ...   \n",
       "22384                            WORLDWIDE         NaN   F   NaN  NaN  ...   \n",
       "24883  NOT DEFINED. IN PRACTICE. WORLDWIDE         NaN   F   NaN  NaN  ...   \n",
       "\n",
       "                                      add2  \\\n",
       "15685  St James House                        \n",
       "16940                                  NaN   \n",
       "17625  7-10 ADAM STREET                      \n",
       "22384                             Brighton   \n",
       "24883              c/o CAFOD, Romero House   \n",
       "\n",
       "                                      add3  \\\n",
       "15685  St James Square                       \n",
       "16940                                  NaN   \n",
       "17625  LONDON                                \n",
       "22384                                  NaN   \n",
       "24883           55 Westminster Bridge Road   \n",
       "\n",
       "                                      add4 add5  postcode       phone  fax  \\\n",
       "15685  Cheltenham                           NaN  GL50 3PR  2089936683  NaN   \n",
       "16940                                  NaN  NaN       NaN         NaN  NaN   \n",
       "17625                                  NaN  NaN  WC2N 6AA  2079602990  NaN   \n",
       "22384                                  NaN  NaN   BN2 5RF  1273239144  NaN   \n",
       "24883                               LONDON  NaN   SE1 7JB  2078029989  NaN   \n",
       "\n",
       "      Unnamed: 18  Unnamed: 19 Unnamed: 20  \n",
       "15685         NaN          NaN         NaN  \n",
       "16940         NaN          NaN         NaN  \n",
       "17625         NaN          NaN         NaN  \n",
       "22384         NaN          NaN         NaN  \n",
       "24883         NaN          NaN         NaN  \n",
       "\n",
       "[5 rows x 21 columns]"
      ]
     },
     "execution_count": 6,
     "metadata": {},
     "output_type": "execute_result"
    }
   ],
   "source": [
    "new_df = df[df['name'].str.contains('CLIMATE', na=False)]\n",
    "new_df.head()"
   ]
  },
  {
   "cell_type": "code",
   "execution_count": 7,
   "id": "00456d98",
   "metadata": {},
   "outputs": [],
   "source": [
    "url = 'https://www.bbc.com/news/world-asia-india-59342627'"
   ]
  },
  {
   "cell_type": "code",
   "execution_count": 8,
   "id": "1c4120f9",
   "metadata": {},
   "outputs": [],
   "source": [
    "article = Article(url)\n",
    "article.download()\n",
    "article.parse()\n",
    "article.nlp()"
   ]
  },
  {
   "cell_type": "code",
   "execution_count": 9,
   "id": "10fa8c89",
   "metadata": {},
   "outputs": [],
   "source": [
    "k = article.keywords"
   ]
  },
  {
   "cell_type": "code",
   "execution_count": 71,
   "id": "a91f7981",
   "metadata": {},
   "outputs": [
    {
     "data": {
      "text/plain": [
       "4"
      ]
     },
     "execution_count": 71,
     "metadata": {},
     "output_type": "execute_result"
    }
   ],
   "source": [
    "len(article.text.split(\"\"))"
   ]
  },
  {
   "cell_type": "code",
   "execution_count": 11,
   "id": "e859631c",
   "metadata": {},
   "outputs": [],
   "source": [
    "kb = KeyBERT('distilbert-base-nli-mean-tokens')\n",
    "keywords = kb.extract_keywords(article.text, stop_words='english')"
   ]
  },
  {
   "cell_type": "code",
   "execution_count": 12,
   "id": "bff20360",
   "metadata": {},
   "outputs": [
    {
     "data": {
      "text/plain": [
       "[('protesters', 0.2589),\n",
       " ('farmers', 0.2195),\n",
       " ('selling', 0.0453),\n",
       " ('weaken', 0.0366),\n",
       " ('struggle', 0.0223)]"
      ]
     },
     "execution_count": 12,
     "metadata": {},
     "output_type": "execute_result"
    }
   ],
   "source": [
    "keywords"
   ]
  },
  {
   "cell_type": "code",
   "execution_count": 13,
   "id": "a982c5df",
   "metadata": {},
   "outputs": [],
   "source": [
    "key = [keywords[0][0], keywords[1][0],keywords[2][0],keywords[3][0],keywords[4][0]]"
   ]
  },
  {
   "cell_type": "code",
   "execution_count": 14,
   "id": "10d0ddef",
   "metadata": {},
   "outputs": [
    {
     "data": {
      "text/plain": [
       "['protesters', 'farmers', 'selling', 'weaken', 'struggle']"
      ]
     },
     "execution_count": 14,
     "metadata": {},
     "output_type": "execute_result"
    }
   ],
   "source": [
    "key"
   ]
  },
  {
   "cell_type": "code",
   "execution_count": 15,
   "id": "74ff1d85",
   "metadata": {},
   "outputs": [],
   "source": [
    "key1 = [x.upper() for x in key]"
   ]
  },
  {
   "cell_type": "code",
   "execution_count": 16,
   "id": "e32e5c6c",
   "metadata": {},
   "outputs": [
    {
     "data": {
      "text/plain": [
       "['PROTESTERS', 'FARMERS', 'SELLING', 'WEAKEN', 'STRUGGLE']"
      ]
     },
     "execution_count": 16,
     "metadata": {},
     "output_type": "execute_result"
    }
   ],
   "source": [
    "key1"
   ]
  },
  {
   "cell_type": "code",
   "execution_count": null,
   "id": "2bba556d",
   "metadata": {},
   "outputs": [],
   "source": []
  },
  {
   "cell_type": "code",
   "execution_count": 19,
   "id": "eee4446d",
   "metadata": {},
   "outputs": [],
   "source": [
    "def get(i):\n",
    "    res = df[df['name'].str.contains(i, na=False)]\n",
    "    return res.head()"
   ]
  },
  {
   "cell_type": "code",
   "execution_count": 20,
   "id": "44c5960a",
   "metadata": {},
   "outputs": [
    {
     "name": "stdout",
     "output_type": "stream",
     "text": [
      "Empty DataFrame\n",
      "Columns: [regno, subno, name, orgtype, gd, aob, aob_defined, nhs, ha_no, corr, add1, add2, add3, add4, add5, postcode, phone, fax, Unnamed: 18, Unnamed: 19, Unnamed: 20]\n",
      "Index: []\n",
      "\n",
      "[0 rows x 21 columns]\n",
      "         regno subno                                               name  \\\n",
      "5302   1090827     0                       TREUDDYN YOUNG FARMERS' CLUB   \n",
      "6328   1091847     0  THE FARMERS FUND                              ...   \n",
      "12416  1097827     0  ASH YOUNG FARMERS CLUB                        ...   \n",
      "13410  1098759     0        THE DEVON FEDERATION OF YOUNG FARMERS CLUBS   \n",
      "21800  1106995     0  CLWB FFERMWYR IFANC LLYSYFRAN YOUNG FARMERS' CLUB   \n",
      "\n",
      "      orgtype                                                 gd  \\\n",
      "5302       RM              CONSTITUTION ADOPTED 8 NOVEMBER 2001;   \n",
      "6328       RM  DECLARATION OF TRUST EXECUTED ON THE 17TH APRI...   \n",
      "12416      RM             CONSTITUTION ADOPTED 9TH OCTOBER 2002;   \n",
      "13410       R  MEMORANDUM AND ARTICLES OF ASSOCIATION INCORPO...   \n",
      "21800       R               CONSTITUTION ADOPTED 20 AUGUST 2004;   \n",
      "\n",
      "                                                     aob aob_defined nhs  \\\n",
      "5302                                         NOT DEFINED         NaN   F   \n",
      "6328                                            NATIONAL         NaN   F   \n",
      "12416                                                ASH         NaN   F   \n",
      "13410  NOT DEFINED. IN PRACTICE DEVON (MAIN FOCUS FOR...         NaN   F   \n",
      "21800                 NOT DEFINED. IN PRACTICE LLYSYFRAN         NaN   F   \n",
      "\n",
      "      ha_no corr  ...             add2           add3 add4 add5  postcode  \\\n",
      "5302    NaN  NaN  ...              NaN            NaN  NaN  NaN       NaN   \n",
      "6328    NaN  NaN  ...              NaN            NaN  NaN  NaN       NaN   \n",
      "12416   NaN  NaN  ...              NaN            NaN  NaN  NaN       NaN   \n",
      "13410   NaN  NaN  ...  Cheriton Bishop         EXETER  NaN  NaN   EX6 6JH   \n",
      "21800   NaN  NaN  ...       PUNCHESTON  HAVERFORDWEST  NaN  NaN  SA62 5RJ   \n",
      "\n",
      "            phone  fax Unnamed: 18  Unnamed: 19 Unnamed: 20  \n",
      "5302          NaN  NaN         NaN          NaN         NaN  \n",
      "6328          NaN  NaN         NaN          NaN         NaN  \n",
      "12416         NaN  NaN         NaN          NaN         NaN  \n",
      "13410   164724120  NaN         NaN          NaN         NaN  \n",
      "21800  1348881387  NaN         NaN          NaN         NaN  \n",
      "\n",
      "[5 rows x 21 columns]\n",
      "        regno subno                                               name  \\\n",
      "191   1085764     0                         CHILTERN COUNSELLING (CPF)   \n",
      "504   1086078     0                    YORK WOMENS COUNSELLING SERVICE   \n",
      "815   1086389     0  THE NORTH AND SOUTH MANCHESTER COUNSELLING SER...   \n",
      "1209  1086776     0                NEW ROMNEY COUNSELLING SERVICES LTD   \n",
      "1466  1087029     0  FYLDE COUNSELLING SERVICE                     ...   \n",
      "\n",
      "     orgtype                                                 gd  \\\n",
      "191       RM  MEMORANDUM AND ARTICLES OF ASSOCIATION INCORPO...   \n",
      "504        R                                     6TH JUNE 2001;   \n",
      "815       RM  CONSTITUTION ADOPTED 12 SEPTEMBER 2000 AS AMEN...   \n",
      "1209       R  MEMORANDUM AND ARTICLES OF ASSOCIATION INCORPO...   \n",
      "1466      RM  CONSTITUTION ADOPTED 28 JUNE 2000 AS AMENDED 2...   \n",
      "\n",
      "                                                    aob aob_defined nhs ha_no  \\\n",
      "191   THE UNITED KINGDOM AND IN PARTICULAR BUCKINGHA...         NaN   F   NaN   \n",
      "504                                        CITY OF YORK         NaN   F   NaN   \n",
      "815                                  GREATER MANCHESTER         NaN   F   NaN   \n",
      "1209                                        NOT DEFINED         NaN   F   NaN   \n",
      "1466                          FYLDE, WYRE AND BLACKPOOL         NaN   F   NaN   \n",
      "\n",
      "     corr  ...                                 add2  \\\n",
      "191   NaN  ...                                  NaN   \n",
      "504   NaN  ...  PRIORY ST. CENTRE                     \n",
      "815   NaN  ...                                  NaN   \n",
      "1209  NaN  ...                       45 High Street   \n",
      "1466  NaN  ...                                  NaN   \n",
      "\n",
      "                                     add3  \\\n",
      "191                                   NaN   \n",
      "504   15 PRIORY STREET                      \n",
      "815                                   NaN   \n",
      "1209                           NEW ROMNEY   \n",
      "1466                                  NaN   \n",
      "\n",
      "                                     add4 add5  postcode       phone  fax  \\\n",
      "191                                   NaN  NaN       NaN         NaN  NaN   \n",
      "504   YORK                                 NaN  YO1 6ET   1904652706  NaN   \n",
      "815                                   NaN  NaN       NaN         NaN  NaN   \n",
      "1209                                  NaN  NaN  TN28 8AH  1797367809  NaN   \n",
      "1466                                  NaN  NaN       NaN         NaN  NaN   \n",
      "\n",
      "     Unnamed: 18  Unnamed: 19 Unnamed: 20  \n",
      "191          NaN          NaN         NaN  \n",
      "504          NaN          NaN         NaN  \n",
      "815          NaN          NaN         NaN  \n",
      "1209         NaN          NaN         NaN  \n",
      "1466         NaN          NaN         NaN  \n",
      "\n",
      "[5 rows x 21 columns]\n",
      "Empty DataFrame\n",
      "Columns: [regno, subno, name, orgtype, gd, aob, aob_defined, nhs, ha_no, corr, add1, add2, add3, add4, add5, postcode, phone, fax, Unnamed: 18, Unnamed: 19, Unnamed: 20]\n",
      "Index: []\n",
      "\n",
      "[0 rows x 21 columns]\n",
      "          regno subno                                               name  \\\n",
      "112768  1196092     0  STRUGGLES 2 SMILES                            ...   \n",
      "346785  1058100     0                      ZAPALLAL SHARING THE STRUGGLE   \n",
      "\n",
      "       orgtype                                                 gd  \\\n",
      "112768       R           CIO - FOUNDATION Registered 11 Oct 2021;   \n",
      "346785       R  MEMORANDUM AND ARTICLES INCORPORATED 10 SEPTEM...   \n",
      "\n",
      "                  aob aob_defined nhs ha_no corr  ...      add2    add3 add4  \\\n",
      "112768            NaN         NaN   F   NaN  NaN  ...     BARRY     NaN  NaN   \n",
      "346785  SOUTH AMERICA         NaN   F   NaN  NaN  ...  KNAPHILL  WOKING  NaN   \n",
      "\n",
      "       add5  postcode       phone  fax Unnamed: 18  Unnamed: 19 Unnamed: 20  \n",
      "112768  NaN  CF62 7JH  7549969250  NaN         NaN          NaN         NaN  \n",
      "346785  NaN  GU21 2QY  1483475224  NaN         NaN          NaN         NaN  \n",
      "\n",
      "[2 rows x 21 columns]\n"
     ]
    }
   ],
   "source": [
    "for i in key1:\n",
    "    print(get(i))"
   ]
  },
  {
   "cell_type": "code",
   "execution_count": 26,
   "id": "33eb02ce",
   "metadata": {},
   "outputs": [],
   "source": [
    "from trafilatura import fetch_url, extract"
   ]
  },
  {
   "cell_type": "code",
   "execution_count": 27,
   "id": "6cfadfd2",
   "metadata": {},
   "outputs": [],
   "source": [
    "url = fetch_url('https://www.bbc.com/news/world-asia-india-59342627')"
   ]
  },
  {
   "cell_type": "code",
   "execution_count": 48,
   "id": "e9e5741d",
   "metadata": {},
   "outputs": [],
   "source": [
    "data = extract(url)"
   ]
  },
  {
   "cell_type": "code",
   "execution_count": 61,
   "id": "2f5439e3",
   "metadata": {},
   "outputs": [],
   "source": [
    "#data"
   ]
  },
  {
   "cell_type": "code",
   "execution_count": 38,
   "id": "a03e8910",
   "metadata": {},
   "outputs": [
    {
     "data": {
      "text/plain": [
       "51"
      ]
     },
     "execution_count": 38,
     "metadata": {},
     "output_type": "execute_result"
    }
   ],
   "source": [
    "len(data.split(\".\"))"
   ]
  },
  {
   "cell_type": "code",
   "execution_count": 31,
   "id": "2c25f9dd",
   "metadata": {},
   "outputs": [],
   "source": [
    "a = data.split(\".\")"
   ]
  },
  {
   "cell_type": "code",
   "execution_count": 72,
   "id": "78959bcc",
   "metadata": {},
   "outputs": [],
   "source": [
    "#data"
   ]
  },
  {
   "cell_type": "code",
   "execution_count": 74,
   "id": "58d4656a",
   "metadata": {},
   "outputs": [
    {
     "data": {
      "text/plain": [
       "[('protests', 0.1),\n",
       " ('sikhism', 0.0158),\n",
       " ('repeal', 0.015),\n",
       " ('repeals', 0.0022),\n",
       " ('died', 0.0017)]"
      ]
     },
     "execution_count": 74,
     "metadata": {},
     "output_type": "execute_result"
    }
   ],
   "source": [
    "part1 = data[0:2000]\n",
    "kb1 = KeyBERT('distilbert-base-nli-mean-tokens')\n",
    "keywords1 = kb1.extract_keywords(part1, stop_words='english')\n",
    "keywords1"
   ]
  },
  {
   "cell_type": "code",
   "execution_count": 75,
   "id": "b5529203",
   "metadata": {},
   "outputs": [
    {
     "data": {
      "text/plain": [
       "[('farmers', 0.1889),\n",
       " ('farmer', 0.1771),\n",
       " ('protesters', 0.1533),\n",
       " ('economists', 0.1264),\n",
       " ('protest', 0.0936)]"
      ]
     },
     "execution_count": 75,
     "metadata": {},
     "output_type": "execute_result"
    }
   ],
   "source": [
    "part2 = data[2000:4000]\n",
    "kb1 = KeyBERT('distilbert-base-nli-mean-tokens')\n",
    "keywords2 = kb1.extract_keywords(part2, stop_words='english')\n",
    "keywords2"
   ]
  },
  {
   "cell_type": "code",
   "execution_count": 76,
   "id": "edf6db82",
   "metadata": {},
   "outputs": [
    {
     "data": {
      "text/plain": [
       "[('protesting', 0.1069),\n",
       " ('protests', 0.0896),\n",
       " ('bjp', 0.0869),\n",
       " ('sikhs', 0.0753),\n",
       " ('farmers', 0.0705)]"
      ]
     },
     "execution_count": 76,
     "metadata": {},
     "output_type": "execute_result"
    }
   ],
   "source": [
    "part3 = data[4000:7000]\n",
    "kb1 = KeyBERT('distilbert-base-nli-mean-tokens')\n",
    "keywords3 = kb1.extract_keywords(part3, stop_words='english')\n",
    "keywords3"
   ]
  },
  {
   "cell_type": "code",
   "execution_count": 67,
   "id": "f979e8a3",
   "metadata": {},
   "outputs": [],
   "source": [
    "kb1 = KeyBERT('distilbert-base-nli-mean-tokens')\n",
    "keywords1 = kb1.extract_keywords(data, stop_words='english')"
   ]
  },
  {
   "cell_type": "code",
   "execution_count": 68,
   "id": "bd81d4a5",
   "metadata": {},
   "outputs": [
    {
     "data": {
      "text/plain": [
       "[('protesters', 0.106),\n",
       " ('protests', 0.1),\n",
       " ('protesting', 0.0845),\n",
       " ('firestorm', 0.0708),\n",
       " ('protest', 0.0666)]"
      ]
     },
     "execution_count": 68,
     "metadata": {},
     "output_type": "execute_result"
    }
   ],
   "source": [
    "keywords1"
   ]
  },
  {
   "cell_type": "code",
   "execution_count": 77,
   "id": "6b134087",
   "metadata": {},
   "outputs": [
    {
     "data": {
      "text/plain": [
       "'The reforms, at least on paper, gave farmers the option of selling outside of this so-called \"mandi system\". But the protesters said the laws would weaken the farmers and allow private players to dictate prices and control their fate. They said the MSP was keeping many farmers going and without it, many of them will struggle to survive.'"
      ]
     },
     "execution_count": 77,
     "metadata": {},
     "output_type": "execute_result"
    }
   ],
   "source": [
    "article.text"
   ]
  },
  {
   "cell_type": "code",
   "execution_count": 78,
   "id": "271bfaa1",
   "metadata": {},
   "outputs": [],
   "source": [
    "import tensorflow as tf"
   ]
  },
  {
   "cell_type": "code",
   "execution_count": 79,
   "id": "6320f2e1",
   "metadata": {},
   "outputs": [],
   "source": [
    "main = tf.keras.models.load_model(\"text_classification_without_regions/\")"
   ]
  },
  {
   "cell_type": "code",
   "execution_count": 81,
   "id": "3887fb3b",
   "metadata": {},
   "outputs": [],
   "source": [
    "h = main.predict([article.text])"
   ]
  },
  {
   "cell_type": "code",
   "execution_count": 112,
   "id": "2840bbec",
   "metadata": {},
   "outputs": [],
   "source": [
    "#h"
   ]
  },
  {
   "cell_type": "code",
   "execution_count": 83,
   "id": "2a968f99",
   "metadata": {},
   "outputs": [],
   "source": [
    "d = {2:'Sports',3:'Politics',4:'Start-up',5:'Business',6:'Habitat',7:'Global Health',8:'Europe',9:'Asia',10:'North America',\n",
    "     11:'Africa',12:'Middle East',13:'Technology',14:'Travel',15:'Gender Equality',16:'Art & Culture',18:'Latin America',19:'Social Movement',\n",
    "     20:'Local News',21:'Happy News',24:'Climate Crisis',25:'science',26:'Human Rights', 27:'Mental Health',28:'Biotech',29:'LGBT',\n",
    "     30:'France',31:'Education',32:'Cryptocurrency',33:'Human Stories'}"
   ]
  },
  {
   "cell_type": "code",
   "execution_count": 104,
   "id": "5dd98e12",
   "metadata": {},
   "outputs": [
    {
     "name": "stdout",
     "output_type": "stream",
     "text": [
      "Politics\n",
      "Human Rights\n",
      "Social Movement\n"
     ]
    }
   ],
   "source": [
    "l = main.predict([data])\n",
    "m = np.argsort(l)\n",
    "n = m.tolist()\n",
    "o = []\n",
    "for i in range(len(n[0])):\n",
    "    last_item = n[0].pop()\n",
    "    o.insert(i, last_item)\n",
    "p = o[:3]\n",
    "\n",
    "for i in p:\n",
    "    print(d[i])"
   ]
  },
  {
   "cell_type": "code",
   "execution_count": 106,
   "id": "f5fbba88",
   "metadata": {},
   "outputs": [
    {
     "name": "stdout",
     "output_type": "stream",
     "text": [
      "Social Movement\n",
      "Sports\n",
      "Human Rights\n"
     ]
    }
   ],
   "source": [
    "l = main.predict([article.text])\n",
    "m = np.argsort(l)\n",
    "n = m.tolist()\n",
    "o = []\n",
    "for i in range(len(n[0])):\n",
    "    last_item = n[0].pop()\n",
    "    o.insert(i, last_item)\n",
    "p = o[:3]\n",
    "\n",
    "for i in p:\n",
    "    print(d[i])"
   ]
  },
  {
   "cell_type": "code",
   "execution_count": 111,
   "id": "a520d1a4",
   "metadata": {},
   "outputs": [
    {
     "data": {
      "text/html": [
       "<div>\n",
       "<style scoped>\n",
       "    .dataframe tbody tr th:only-of-type {\n",
       "        vertical-align: middle;\n",
       "    }\n",
       "\n",
       "    .dataframe tbody tr th {\n",
       "        vertical-align: top;\n",
       "    }\n",
       "\n",
       "    .dataframe thead th {\n",
       "        text-align: right;\n",
       "    }\n",
       "</style>\n",
       "<table border=\"1\" class=\"dataframe\">\n",
       "  <thead>\n",
       "    <tr style=\"text-align: right;\">\n",
       "      <th></th>\n",
       "      <th>regno</th>\n",
       "      <th>subno</th>\n",
       "      <th>name</th>\n",
       "      <th>orgtype</th>\n",
       "      <th>gd</th>\n",
       "      <th>aob</th>\n",
       "      <th>aob_defined</th>\n",
       "      <th>nhs</th>\n",
       "      <th>ha_no</th>\n",
       "      <th>corr</th>\n",
       "      <th>...</th>\n",
       "      <th>add2</th>\n",
       "      <th>add3</th>\n",
       "      <th>add4</th>\n",
       "      <th>add5</th>\n",
       "      <th>postcode</th>\n",
       "      <th>phone</th>\n",
       "      <th>fax</th>\n",
       "      <th>Unnamed: 18</th>\n",
       "      <th>Unnamed: 19</th>\n",
       "      <th>Unnamed: 20</th>\n",
       "    </tr>\n",
       "  </thead>\n",
       "  <tbody>\n",
       "    <tr>\n",
       "      <th>5302</th>\n",
       "      <td>1090827</td>\n",
       "      <td>0</td>\n",
       "      <td>TREUDDYN YOUNG FARMERS' CLUB</td>\n",
       "      <td>RM</td>\n",
       "      <td>CONSTITUTION ADOPTED 8 NOVEMBER 2001;</td>\n",
       "      <td>NOT DEFINED</td>\n",
       "      <td>NaN</td>\n",
       "      <td>F</td>\n",
       "      <td>NaN</td>\n",
       "      <td>NaN</td>\n",
       "      <td>...</td>\n",
       "      <td>NaN</td>\n",
       "      <td>NaN</td>\n",
       "      <td>NaN</td>\n",
       "      <td>NaN</td>\n",
       "      <td>NaN</td>\n",
       "      <td>NaN</td>\n",
       "      <td>NaN</td>\n",
       "      <td>NaN</td>\n",
       "      <td>NaN</td>\n",
       "      <td>NaN</td>\n",
       "    </tr>\n",
       "    <tr>\n",
       "      <th>6328</th>\n",
       "      <td>1091847</td>\n",
       "      <td>0</td>\n",
       "      <td>THE FARMERS FUND                              ...</td>\n",
       "      <td>RM</td>\n",
       "      <td>DECLARATION OF TRUST EXECUTED ON THE 17TH APRI...</td>\n",
       "      <td>NATIONAL</td>\n",
       "      <td>NaN</td>\n",
       "      <td>F</td>\n",
       "      <td>NaN</td>\n",
       "      <td>NaN</td>\n",
       "      <td>...</td>\n",
       "      <td>NaN</td>\n",
       "      <td>NaN</td>\n",
       "      <td>NaN</td>\n",
       "      <td>NaN</td>\n",
       "      <td>NaN</td>\n",
       "      <td>NaN</td>\n",
       "      <td>NaN</td>\n",
       "      <td>NaN</td>\n",
       "      <td>NaN</td>\n",
       "      <td>NaN</td>\n",
       "    </tr>\n",
       "    <tr>\n",
       "      <th>12416</th>\n",
       "      <td>1097827</td>\n",
       "      <td>0</td>\n",
       "      <td>ASH YOUNG FARMERS CLUB                        ...</td>\n",
       "      <td>RM</td>\n",
       "      <td>CONSTITUTION ADOPTED 9TH OCTOBER 2002;</td>\n",
       "      <td>ASH</td>\n",
       "      <td>NaN</td>\n",
       "      <td>F</td>\n",
       "      <td>NaN</td>\n",
       "      <td>NaN</td>\n",
       "      <td>...</td>\n",
       "      <td>NaN</td>\n",
       "      <td>NaN</td>\n",
       "      <td>NaN</td>\n",
       "      <td>NaN</td>\n",
       "      <td>NaN</td>\n",
       "      <td>NaN</td>\n",
       "      <td>NaN</td>\n",
       "      <td>NaN</td>\n",
       "      <td>NaN</td>\n",
       "      <td>NaN</td>\n",
       "    </tr>\n",
       "    <tr>\n",
       "      <th>13410</th>\n",
       "      <td>1098759</td>\n",
       "      <td>0</td>\n",
       "      <td>THE DEVON FEDERATION OF YOUNG FARMERS CLUBS</td>\n",
       "      <td>R</td>\n",
       "      <td>MEMORANDUM AND ARTICLES OF ASSOCIATION INCORPO...</td>\n",
       "      <td>NOT DEFINED. IN PRACTICE DEVON (MAIN FOCUS FOR...</td>\n",
       "      <td>NaN</td>\n",
       "      <td>F</td>\n",
       "      <td>NaN</td>\n",
       "      <td>NaN</td>\n",
       "      <td>...</td>\n",
       "      <td>Cheriton Bishop</td>\n",
       "      <td>EXETER</td>\n",
       "      <td>NaN</td>\n",
       "      <td>NaN</td>\n",
       "      <td>EX6 6JH</td>\n",
       "      <td>164724120</td>\n",
       "      <td>NaN</td>\n",
       "      <td>NaN</td>\n",
       "      <td>NaN</td>\n",
       "      <td>NaN</td>\n",
       "    </tr>\n",
       "    <tr>\n",
       "      <th>21800</th>\n",
       "      <td>1106995</td>\n",
       "      <td>0</td>\n",
       "      <td>CLWB FFERMWYR IFANC LLYSYFRAN YOUNG FARMERS' CLUB</td>\n",
       "      <td>R</td>\n",
       "      <td>CONSTITUTION ADOPTED 20 AUGUST 2004;</td>\n",
       "      <td>NOT DEFINED. IN PRACTICE LLYSYFRAN</td>\n",
       "      <td>NaN</td>\n",
       "      <td>F</td>\n",
       "      <td>NaN</td>\n",
       "      <td>NaN</td>\n",
       "      <td>...</td>\n",
       "      <td>PUNCHESTON</td>\n",
       "      <td>HAVERFORDWEST</td>\n",
       "      <td>NaN</td>\n",
       "      <td>NaN</td>\n",
       "      <td>SA62 5RJ</td>\n",
       "      <td>1348881387</td>\n",
       "      <td>NaN</td>\n",
       "      <td>NaN</td>\n",
       "      <td>NaN</td>\n",
       "      <td>NaN</td>\n",
       "    </tr>\n",
       "    <tr>\n",
       "      <th>...</th>\n",
       "      <td>...</td>\n",
       "      <td>...</td>\n",
       "      <td>...</td>\n",
       "      <td>...</td>\n",
       "      <td>...</td>\n",
       "      <td>...</td>\n",
       "      <td>...</td>\n",
       "      <td>...</td>\n",
       "      <td>...</td>\n",
       "      <td>...</td>\n",
       "      <td>...</td>\n",
       "      <td>...</td>\n",
       "      <td>...</td>\n",
       "      <td>...</td>\n",
       "      <td>...</td>\n",
       "      <td>...</td>\n",
       "      <td>...</td>\n",
       "      <td>...</td>\n",
       "      <td>...</td>\n",
       "      <td>...</td>\n",
       "      <td>...</td>\n",
       "    </tr>\n",
       "    <tr>\n",
       "      <th>368963</th>\n",
       "      <td>1079483</td>\n",
       "      <td>0</td>\n",
       "      <td>THE CENTRAL REGION FARMERS TRUST</td>\n",
       "      <td>R</td>\n",
       "      <td>DECLARATION OF TRUST MADE ON 14 OCTOBER 1999.;</td>\n",
       "      <td>CENTRAL REGION OF ENGLAND</td>\n",
       "      <td>NaN</td>\n",
       "      <td>F</td>\n",
       "      <td>NaN</td>\n",
       "      <td>NaN</td>\n",
       "      <td>...</td>\n",
       "      <td>EVESHAM ROAD</td>\n",
       "      <td>STOW ON THE WOLD</td>\n",
       "      <td>CHELTENHAM</td>\n",
       "      <td>NaN</td>\n",
       "      <td>GL54 1EJ</td>\n",
       "      <td>1451831057</td>\n",
       "      <td>NaN</td>\n",
       "      <td>NaN</td>\n",
       "      <td>NaN</td>\n",
       "      <td>NaN</td>\n",
       "    </tr>\n",
       "    <tr>\n",
       "      <th>373804</th>\n",
       "      <td>1084245</td>\n",
       "      <td>0</td>\n",
       "      <td>GREAT ECCLESTON AND DISTRICT YOUNG FARMERS' CLUB</td>\n",
       "      <td>RM</td>\n",
       "      <td>CONSTITUTION ADOPTED ADOPTED 13 JANUARY 1997;</td>\n",
       "      <td>NOT DEFINED</td>\n",
       "      <td>NaN</td>\n",
       "      <td>F</td>\n",
       "      <td>NaN</td>\n",
       "      <td>NaN</td>\n",
       "      <td>...</td>\n",
       "      <td>NaN</td>\n",
       "      <td>NaN</td>\n",
       "      <td>NaN</td>\n",
       "      <td>NaN</td>\n",
       "      <td>NaN</td>\n",
       "      <td>NaN</td>\n",
       "      <td>NaN</td>\n",
       "      <td>NaN</td>\n",
       "      <td>NaN</td>\n",
       "      <td>NaN</td>\n",
       "    </tr>\n",
       "    <tr>\n",
       "      <th>373882</th>\n",
       "      <td>1084321</td>\n",
       "      <td>0</td>\n",
       "      <td>CANTERBURY YOUNG FARMERS' CLUB</td>\n",
       "      <td>R</td>\n",
       "      <td>CONSTITUTION ADOPTED 5 OCTOBER 2000.;</td>\n",
       "      <td>NOT DEFINED. IN PRACTICE CANTERBURY.</td>\n",
       "      <td>NaN</td>\n",
       "      <td>F</td>\n",
       "      <td>NaN</td>\n",
       "      <td>NaN</td>\n",
       "      <td>...</td>\n",
       "      <td>Stelling Church</td>\n",
       "      <td>Stelling Minnis</td>\n",
       "      <td>Canterbury</td>\n",
       "      <td>NaN</td>\n",
       "      <td>CT4 5PT</td>\n",
       "      <td>1227709229</td>\n",
       "      <td>NaN</td>\n",
       "      <td>NaN</td>\n",
       "      <td>NaN</td>\n",
       "      <td>NaN</td>\n",
       "    </tr>\n",
       "    <tr>\n",
       "      <th>373902</th>\n",
       "      <td>1084340</td>\n",
       "      <td>0</td>\n",
       "      <td>PEN-Y-CAE AND DISTRICT YOUNG FARMERS' CLUB    ...</td>\n",
       "      <td>RM</td>\n",
       "      <td>CONSTITUTION ADOPTED 8 SEPTEMBER 1998;</td>\n",
       "      <td>NOT DEFINED</td>\n",
       "      <td>NaN</td>\n",
       "      <td>F</td>\n",
       "      <td>NaN</td>\n",
       "      <td>NaN</td>\n",
       "      <td>...</td>\n",
       "      <td>NaN</td>\n",
       "      <td>NaN</td>\n",
       "      <td>NaN</td>\n",
       "      <td>NaN</td>\n",
       "      <td>NaN</td>\n",
       "      <td>NaN</td>\n",
       "      <td>NaN</td>\n",
       "      <td>NaN</td>\n",
       "      <td>NaN</td>\n",
       "      <td>NaN</td>\n",
       "    </tr>\n",
       "    <tr>\n",
       "      <th>374184</th>\n",
       "      <td>1084623</td>\n",
       "      <td>0</td>\n",
       "      <td>BROCKHILL PARK SCHOOL YOUNG FARMERS CLUB</td>\n",
       "      <td>R</td>\n",
       "      <td>DECLARATION OF TRUST DATED 1 NOVEMBER 2000.;</td>\n",
       "      <td>HYTHE.</td>\n",
       "      <td>NaN</td>\n",
       "      <td>F</td>\n",
       "      <td>NaN</td>\n",
       "      <td>NaN</td>\n",
       "      <td>...</td>\n",
       "      <td>Sandling Road</td>\n",
       "      <td>Saltwood</td>\n",
       "      <td>HYTHE</td>\n",
       "      <td>Kent</td>\n",
       "      <td>CT21 4HL</td>\n",
       "      <td>1303265521</td>\n",
       "      <td>NaN</td>\n",
       "      <td>NaN</td>\n",
       "      <td>NaN</td>\n",
       "      <td>NaN</td>\n",
       "    </tr>\n",
       "  </tbody>\n",
       "</table>\n",
       "<p>783 rows × 21 columns</p>\n",
       "</div>"
      ],
      "text/plain": [
       "          regno subno                                               name  \\\n",
       "5302    1090827     0                       TREUDDYN YOUNG FARMERS' CLUB   \n",
       "6328    1091847     0  THE FARMERS FUND                              ...   \n",
       "12416   1097827     0  ASH YOUNG FARMERS CLUB                        ...   \n",
       "13410   1098759     0        THE DEVON FEDERATION OF YOUNG FARMERS CLUBS   \n",
       "21800   1106995     0  CLWB FFERMWYR IFANC LLYSYFRAN YOUNG FARMERS' CLUB   \n",
       "...         ...   ...                                                ...   \n",
       "368963  1079483     0                   THE CENTRAL REGION FARMERS TRUST   \n",
       "373804  1084245     0   GREAT ECCLESTON AND DISTRICT YOUNG FARMERS' CLUB   \n",
       "373882  1084321     0                     CANTERBURY YOUNG FARMERS' CLUB   \n",
       "373902  1084340     0  PEN-Y-CAE AND DISTRICT YOUNG FARMERS' CLUB    ...   \n",
       "374184  1084623     0           BROCKHILL PARK SCHOOL YOUNG FARMERS CLUB   \n",
       "\n",
       "       orgtype                                                 gd  \\\n",
       "5302        RM              CONSTITUTION ADOPTED 8 NOVEMBER 2001;   \n",
       "6328        RM  DECLARATION OF TRUST EXECUTED ON THE 17TH APRI...   \n",
       "12416       RM             CONSTITUTION ADOPTED 9TH OCTOBER 2002;   \n",
       "13410        R  MEMORANDUM AND ARTICLES OF ASSOCIATION INCORPO...   \n",
       "21800        R               CONSTITUTION ADOPTED 20 AUGUST 2004;   \n",
       "...        ...                                                ...   \n",
       "368963       R     DECLARATION OF TRUST MADE ON 14 OCTOBER 1999.;   \n",
       "373804      RM      CONSTITUTION ADOPTED ADOPTED 13 JANUARY 1997;   \n",
       "373882       R              CONSTITUTION ADOPTED 5 OCTOBER 2000.;   \n",
       "373902      RM             CONSTITUTION ADOPTED 8 SEPTEMBER 1998;   \n",
       "374184       R       DECLARATION OF TRUST DATED 1 NOVEMBER 2000.;   \n",
       "\n",
       "                                                      aob aob_defined nhs  \\\n",
       "5302                                          NOT DEFINED         NaN   F   \n",
       "6328                                             NATIONAL         NaN   F   \n",
       "12416                                                 ASH         NaN   F   \n",
       "13410   NOT DEFINED. IN PRACTICE DEVON (MAIN FOCUS FOR...         NaN   F   \n",
       "21800                  NOT DEFINED. IN PRACTICE LLYSYFRAN         NaN   F   \n",
       "...                                                   ...         ...  ..   \n",
       "368963                          CENTRAL REGION OF ENGLAND         NaN   F   \n",
       "373804                                        NOT DEFINED         NaN   F   \n",
       "373882               NOT DEFINED. IN PRACTICE CANTERBURY.         NaN   F   \n",
       "373902                                        NOT DEFINED         NaN   F   \n",
       "374184                                             HYTHE.         NaN   F   \n",
       "\n",
       "       ha_no corr  ...             add2              add3        add4  add5  \\\n",
       "5302     NaN  NaN  ...              NaN               NaN         NaN   NaN   \n",
       "6328     NaN  NaN  ...              NaN               NaN         NaN   NaN   \n",
       "12416    NaN  NaN  ...              NaN               NaN         NaN   NaN   \n",
       "13410    NaN  NaN  ...  Cheriton Bishop            EXETER         NaN   NaN   \n",
       "21800    NaN  NaN  ...       PUNCHESTON     HAVERFORDWEST         NaN   NaN   \n",
       "...      ...  ...  ...              ...               ...         ...   ...   \n",
       "368963   NaN  NaN  ...     EVESHAM ROAD  STOW ON THE WOLD  CHELTENHAM   NaN   \n",
       "373804   NaN  NaN  ...              NaN               NaN         NaN   NaN   \n",
       "373882   NaN  NaN  ...  Stelling Church   Stelling Minnis  Canterbury   NaN   \n",
       "373902   NaN  NaN  ...              NaN               NaN         NaN   NaN   \n",
       "374184   NaN  NaN  ...    Sandling Road          Saltwood       HYTHE  Kent   \n",
       "\n",
       "        postcode       phone  fax Unnamed: 18  Unnamed: 19 Unnamed: 20  \n",
       "5302         NaN         NaN  NaN         NaN          NaN         NaN  \n",
       "6328         NaN         NaN  NaN         NaN          NaN         NaN  \n",
       "12416        NaN         NaN  NaN         NaN          NaN         NaN  \n",
       "13410    EX6 6JH   164724120  NaN         NaN          NaN         NaN  \n",
       "21800   SA62 5RJ  1348881387  NaN         NaN          NaN         NaN  \n",
       "...          ...         ...  ...         ...          ...         ...  \n",
       "368963  GL54 1EJ  1451831057  NaN         NaN          NaN         NaN  \n",
       "373804       NaN         NaN  NaN         NaN          NaN         NaN  \n",
       "373882   CT4 5PT  1227709229  NaN         NaN          NaN         NaN  \n",
       "373902       NaN         NaN  NaN         NaN          NaN         NaN  \n",
       "374184  CT21 4HL  1303265521  NaN         NaN          NaN         NaN  \n",
       "\n",
       "[783 rows x 21 columns]"
      ]
     },
     "execution_count": 111,
     "metadata": {},
     "output_type": "execute_result"
    }
   ],
   "source": [
    "df[df['name'].str.contains(\"FARMERS\", na=False)]"
   ]
  },
  {
   "cell_type": "code",
   "execution_count": null,
   "id": "bc72a3d8",
   "metadata": {},
   "outputs": [],
   "source": []
  }
 ],
 "metadata": {
  "kernelspec": {
   "display_name": "Python 3",
   "language": "python",
   "name": "python3"
  },
  "language_info": {
   "codemirror_mode": {
    "name": "ipython",
    "version": 3
   },
   "file_extension": ".py",
   "mimetype": "text/x-python",
   "name": "python",
   "nbconvert_exporter": "python",
   "pygments_lexer": "ipython3",
   "version": "3.8.8"
  }
 },
 "nbformat": 4,
 "nbformat_minor": 5
}

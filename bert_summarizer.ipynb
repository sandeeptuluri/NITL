from bert-extractive-summarizer import Summarizer

data = "supreme Court judges today unlocked insurance claims for struggling business shutdown by the pandemic following a landmark £1.2billion legal battle.The Financial Conduct Authority (FCA) brought a test case last year over the wording of insurance policies as business owners sought payouts for loss of earnings caused by the Covid-19 pandemic.Payouts have been held up for months while the courts poured over how the smallprint in a series of policies should be interpreted.The legal battle has been fast-tracked through the justice system, and today’s ruling will be a relief for many companies who are relying on payouts for survival.Paul Smethurst, partner and forensic investigation specialist at accountancy firm Menzies said after the ruling: “At last, businesses that have been unable to trade or have lost money due to disruption caused by the COVID-19 pandemic, know where they stand with respect to their business interruption insurance.“Most of those that have been waiting for a resolution of their existing claims will now receive the compensation they are due.”The test case is believed to affect around 370,000 businesses, and was found in favour of insurers in a High Court ruling in September.The City regulator and the Hiscox Action Group brought an appeal, with Supreme Court president Lord Reed explaining: “The purpose of the proceedings is to determine what liability, if any, the policies impose on the insurers towards businesses that have been affected by the Covid-19 pandemic.”Today at the Supreme Court, Lord Hamblen announced the FCA and campaigners had “substantially” won their case against insurers, paving the way for compensation for hard-hit businesses."


data = data.replace("\ufeff", "")

model = Summarizer()

result = model(data, num_sentences=2, min_length=60)

print(result)
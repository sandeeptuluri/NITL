from keybert import KeyBERT
from textblob import TextBlob
from newspaper import Article
from flask import Flask, request, render_template, jsonify
app = Flask(__name__)

@app.route('/')
def main():
    return jsonify("Please enter the url along side the ip address to get the results.")

app.route('/summarize/<string:link', method=['Get'])
def keywords():
    url = request.form['Link']
    article = Article(url)
    article.download()
    article.parse()
    article.nlp()

    kb = KeyBERT('distilbert-base-nli-mean-tokens')
    keywords = kb.extract_keywords(article.text, stop_words='english')

    analysis = TextBlob(article.text)
    a = analysis.polarity
    def type():
        if (a>0.2):
            return("Positive")
        elif (a<0):
            return("Negative")
        else:
            return("Neutral")
    c = type()

    summary = article.summary
    summary= summary.replace("\n"," ").replace("\'", "")
    dc = {
        'KEYWORDS' : keywords,
        'SENTIMENT': c,
        'Summary' : summary
    }
    return jsonify({"result" : dc})

if __name__ == '__main__':
    app.run(host="127.0.0.1", port=8080,debug=True)
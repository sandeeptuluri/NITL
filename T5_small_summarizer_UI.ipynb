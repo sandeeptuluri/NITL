from os import truncate
from newspaper import Article
from keybert import KeyBERT
from textblob import TextBlob
import nltk
import re
import torch
from transformers import T5Tokenizer, T5ForConditionalGeneration
import tkinter as tk

def result():
    #Extracting the news from the article using newspaper3k.........

    url = utext.get('1.0', "end").strip()
    article = Article(url)
    article.download()
    article.parse()
    article.nlp()

    text = article.text

    #Cleaning the text......

    def clean_text(text):
        text = re.sub(r'[^a-zA-Z]', ' ', text)
        text = text.lower()
        text = text.split()
        text = [word for word in text if not word in set(nltk.corpus.stopwords.words('english'))]
        text = ' '.join(text)
        return text

    # Finding the Keywords

    kb = KeyBERT('distilbert-base-nli-mean-tokens')
    keywords = kb.extract_keywords(text, stop_words='english')

    # Finding the sentiment.....

    analysis = TextBlob(text)
    a = analysis.polarity
    def type():
        if (a>0.2):
            return("Positive")
        elif (a<0):
            return("Negative")
        else:
            return("Neutral")
    c = type()


    # summarization using T5-small........
    model = T5ForConditionalGeneration.from_pretrained('t5-base')
    tokenizer = T5Tokenizer.from_pretrained('t5-base',return_dict=True)
    device = torch.device('cpu')

    inputs = tokenizer.encode("summarize: " + text,return_tensors='pt',max_length=512,truncation=True)
    summary_ids = model.generate(inputs, max_length=150, min_length=80, length_penalty=5., num_beams=2)
    Summary = tokenizer.decode(summary_ids[0])

    key.config(state='normal')
    key.delete('1.0','end')
    key.insert('1.0',keywords)

    sen.config(state='normal')
    sen.delete('1.0','end')
    sen.insert('1.0',c)

    summary.config(state='normal')
    summary.delete('1.0', 'end')
    summary.insert('1.0', Summary)

root = tk.Tk()
root.title('Text Summarizer')
root.geometry('1400x800')

ulabel = tk.Label(root, text='Url')
ulabel.pack()

utext = tk.Text(root, height=1, width=150)
utext.pack()

btn = tk.Button(root, text='get', command=result)
btn.pack()

klabel = tk.Label(root, text='Keywords')
klabel.pack()
key = tk.Text(root, height=2, width=150)
key.pack()

selabel = tk.Label(root, text='Sentiment')
selabel.pack()
sen = tk.Text(root, height=1, width=50)
sen.pack()

slabel = tk.Label(root, text='Summary')
slabel.pack()
summary = tk.Text(root, height=20, width=150)
summary.config(state='disabled', bg='#dddddd')
summary.pack()

root.mainloop()
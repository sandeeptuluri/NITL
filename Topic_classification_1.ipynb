{
  "nbformat": 4,
  "nbformat_minor": 0,
  "metadata": {
    "colab": {
      "name": "text.ipynb",
      "provenance": [],
      "collapsed_sections": [],
      "authorship_tag": "ABX9TyNpyNFz4GXhFei12/zjzslS",
      "include_colab_link": true
    },
    "kernelspec": {
      "name": "python3",
      "display_name": "Python 3"
    },
    "language_info": {
      "name": "python"
    }
  },
  "cells": [
    {
      "cell_type": "markdown",
      "metadata": {
        "id": "view-in-github",
        "colab_type": "text"
      },
      "source": [
        "<a href=\"https://colab.research.google.com/github/sandeeptuluri/fresh1/blob/main/text.ipynb\" target=\"_parent\"><img src=\"https://colab.research.google.com/assets/colab-badge.svg\" alt=\"Open In Colab\"/></a>"
      ]
    },
    {
      "cell_type": "markdown",
      "metadata": {
        "id": "bhLAyTXlnwcE"
      },
      "source": [
        "Importing Libraries....."
      ]
    },
    {
      "cell_type": "code",
      "metadata": {
        "id": "LHxpYKbSggPD"
      },
      "source": [
        "import pandas as pd\n",
        "import numpy as np\n",
        "import seaborn as sns\n",
        "import matplotlib.pyplot as plt"
      ],
      "execution_count": null,
      "outputs": []
    },
    {
      "cell_type": "markdown",
      "metadata": {
        "id": "YCdaoGfpn4sg"
      },
      "source": [
        "Reading the CSV...."
      ]
    },
    {
      "cell_type": "code",
      "metadata": {
        "colab": {
          "base_uri": "https://localhost:8080/",
          "height": 204
        },
        "id": "fM2PmIxMg7pr",
        "outputId": "7043b6a7-ff8a-4f15-a09c-afbdba94b2a3"
      },
      "source": [
        "df = pd.read_csv('https://raw.githubusercontent.com/sandeeptuluri/fresh1/main/Data%20extract%20for%20Sandeep.csv')\n",
        "df.head()"
      ],
      "execution_count": null,
      "outputs": [
        {
          "output_type": "execute_result",
          "data": {
            "text/html": [
              "<div>\n",
              "<style scoped>\n",
              "    .dataframe tbody tr th:only-of-type {\n",
              "        vertical-align: middle;\n",
              "    }\n",
              "\n",
              "    .dataframe tbody tr th {\n",
              "        vertical-align: top;\n",
              "    }\n",
              "\n",
              "    .dataframe thead th {\n",
              "        text-align: right;\n",
              "    }\n",
              "</style>\n",
              "<table border=\"1\" class=\"dataframe\">\n",
              "  <thead>\n",
              "    <tr style=\"text-align: right;\">\n",
              "      <th></th>\n",
              "      <th>id</th>\n",
              "      <th>summary</th>\n",
              "      <th>topicID</th>\n",
              "      <th>topicName</th>\n",
              "    </tr>\n",
              "  </thead>\n",
              "  <tbody>\n",
              "    <tr>\n",
              "      <th>0</th>\n",
              "      <td>26696</td>\n",
              "      <td>Expo 2020 Dubai is finally open after an 8-mon...</td>\n",
              "      <td>13</td>\n",
              "      <td>Technology</td>\n",
              "    </tr>\n",
              "    <tr>\n",
              "      <th>1</th>\n",
              "      <td>26694</td>\n",
              "      <td>The EU has announced a humanitarian aid packag...</td>\n",
              "      <td>3</td>\n",
              "      <td>Politics</td>\n",
              "    </tr>\n",
              "    <tr>\n",
              "      <th>2</th>\n",
              "      <td>26693</td>\n",
              "      <td>Dutch royal weddings need the approval of parl...</td>\n",
              "      <td>3</td>\n",
              "      <td>Politics</td>\n",
              "    </tr>\n",
              "    <tr>\n",
              "      <th>3</th>\n",
              "      <td>26692</td>\n",
              "      <td>Governor Sheinbaum has confirmed that a statue...</td>\n",
              "      <td>10</td>\n",
              "      <td>North America</td>\n",
              "    </tr>\n",
              "    <tr>\n",
              "      <th>4</th>\n",
              "      <td>26690</td>\n",
              "      <td>US officials are investigating possible cases ...</td>\n",
              "      <td>3</td>\n",
              "      <td>Politics</td>\n",
              "    </tr>\n",
              "  </tbody>\n",
              "</table>\n",
              "</div>"
            ],
            "text/plain": [
              "      id  ...      topicName\n",
              "0  26696  ...     Technology\n",
              "1  26694  ...       Politics\n",
              "2  26693  ...       Politics\n",
              "3  26692  ...  North America\n",
              "4  26690  ...       Politics\n",
              "\n",
              "[5 rows x 4 columns]"
            ]
          },
          "metadata": {},
          "execution_count": 20
        }
      ]
    },
    {
      "cell_type": "code",
      "metadata": {
        "colab": {
          "base_uri": "https://localhost:8080/"
        },
        "id": "Mc7a2EE9AVjR",
        "outputId": "7a1b9f7b-8ba5-4921-bd2e-f5c562783f77"
      },
      "source": [
        "df.isnull().sum()"
      ],
      "execution_count": null,
      "outputs": [
        {
          "output_type": "execute_result",
          "data": {
            "text/plain": [
              "id           0\n",
              "summary      0\n",
              "topicID      0\n",
              "topicName    0\n",
              "dtype: int64"
            ]
          },
          "metadata": {},
          "execution_count": 21
        }
      ]
    },
    {
      "cell_type": "code",
      "metadata": {
        "colab": {
          "base_uri": "https://localhost:8080/"
        },
        "id": "ZJrmtVikg_x-",
        "outputId": "080f2ec8-d3c2-4364-803e-9f288148ba0b"
      },
      "source": [
        "df.topicName.nunique()"
      ],
      "execution_count": null,
      "outputs": [
        {
          "output_type": "execute_result",
          "data": {
            "text/plain": [
              "29"
            ]
          },
          "metadata": {},
          "execution_count": 22
        }
      ]
    },
    {
      "cell_type": "code",
      "metadata": {
        "colab": {
          "base_uri": "https://localhost:8080/",
          "height": 297
        },
        "id": "9XpeTAkkuRno",
        "outputId": "1833f7b6-bf13-438f-d019-fb134b6ecdfe"
      },
      "source": [
        "df.describe()\n"
      ],
      "execution_count": null,
      "outputs": [
        {
          "output_type": "execute_result",
          "data": {
            "text/html": [
              "<div>\n",
              "<style scoped>\n",
              "    .dataframe tbody tr th:only-of-type {\n",
              "        vertical-align: middle;\n",
              "    }\n",
              "\n",
              "    .dataframe tbody tr th {\n",
              "        vertical-align: top;\n",
              "    }\n",
              "\n",
              "    .dataframe thead th {\n",
              "        text-align: right;\n",
              "    }\n",
              "</style>\n",
              "<table border=\"1\" class=\"dataframe\">\n",
              "  <thead>\n",
              "    <tr style=\"text-align: right;\">\n",
              "      <th></th>\n",
              "      <th>id</th>\n",
              "      <th>topicID</th>\n",
              "    </tr>\n",
              "  </thead>\n",
              "  <tbody>\n",
              "    <tr>\n",
              "      <th>count</th>\n",
              "      <td>12802.000000</td>\n",
              "      <td>12802.000000</td>\n",
              "    </tr>\n",
              "    <tr>\n",
              "      <th>mean</th>\n",
              "      <td>18746.503359</td>\n",
              "      <td>9.722231</td>\n",
              "    </tr>\n",
              "    <tr>\n",
              "      <th>std</th>\n",
              "      <td>4643.310327</td>\n",
              "      <td>6.670339</td>\n",
              "    </tr>\n",
              "    <tr>\n",
              "      <th>min</th>\n",
              "      <td>10858.000000</td>\n",
              "      <td>2.000000</td>\n",
              "    </tr>\n",
              "    <tr>\n",
              "      <th>25%</th>\n",
              "      <td>14614.250000</td>\n",
              "      <td>5.000000</td>\n",
              "    </tr>\n",
              "    <tr>\n",
              "      <th>50%</th>\n",
              "      <td>18707.500000</td>\n",
              "      <td>7.000000</td>\n",
              "    </tr>\n",
              "    <tr>\n",
              "      <th>75%</th>\n",
              "      <td>22829.750000</td>\n",
              "      <td>14.000000</td>\n",
              "    </tr>\n",
              "    <tr>\n",
              "      <th>max</th>\n",
              "      <td>26696.000000</td>\n",
              "      <td>33.000000</td>\n",
              "    </tr>\n",
              "  </tbody>\n",
              "</table>\n",
              "</div>"
            ],
            "text/plain": [
              "                 id       topicID\n",
              "count  12802.000000  12802.000000\n",
              "mean   18746.503359      9.722231\n",
              "std     4643.310327      6.670339\n",
              "min    10858.000000      2.000000\n",
              "25%    14614.250000      5.000000\n",
              "50%    18707.500000      7.000000\n",
              "75%    22829.750000     14.000000\n",
              "max    26696.000000     33.000000"
            ]
          },
          "metadata": {},
          "execution_count": 23
        }
      ]
    },
    {
      "cell_type": "markdown",
      "metadata": {
        "id": "KVoSHgX7n-xL"
      },
      "source": [
        "Data is very clean....and ready to use"
      ]
    },
    {
      "cell_type": "code",
      "metadata": {
        "id": "-g7q79gxuX5T"
      },
      "source": [
        "df['summary'] = df['summary'].apply(lambda summary: (summary).lower())"
      ],
      "execution_count": null,
      "outputs": []
    },
    {
      "cell_type": "code",
      "metadata": {
        "id": "1SPhbEnFubBC"
      },
      "source": [
        "from sklearn.model_selection import train_test_split"
      ],
      "execution_count": null,
      "outputs": []
    },
    {
      "cell_type": "code",
      "metadata": {
        "id": "jH7NWjI0k2De"
      },
      "source": [
        "X = df['summary']\n",
        "y = df['topicID']"
      ],
      "execution_count": null,
      "outputs": []
    },
    {
      "cell_type": "markdown",
      "metadata": {
        "id": "1X6DOg0SolWm"
      },
      "source": [
        "Splitting the data for efficient use...."
      ]
    },
    {
      "cell_type": "code",
      "metadata": {
        "id": "ya3yYUD2uned"
      },
      "source": [
        "X_train,X_test,y_train,y_test = train_test_split(X,y,test_size=0.3,random_state=101)"
      ],
      "execution_count": null,
      "outputs": []
    },
    {
      "cell_type": "code",
      "metadata": {
        "id": "F3lzwNQ1utqR"
      },
      "source": [
        "from tensorflow.keras.utils import to_categorical\n"
      ],
      "execution_count": null,
      "outputs": []
    },
    {
      "cell_type": "code",
      "metadata": {
        "id": "ngZR8vrguwsv"
      },
      "source": [
        "ytr = to_categorical(y_train)\n"
      ],
      "execution_count": null,
      "outputs": []
    },
    {
      "cell_type": "code",
      "metadata": {
        "colab": {
          "base_uri": "https://localhost:8080/"
        },
        "id": "rvxww_wFuydR",
        "outputId": "74191559-48ef-43de-d138-50a4e11e5ea9"
      },
      "source": [
        "ytr.shape"
      ],
      "execution_count": null,
      "outputs": [
        {
          "output_type": "execute_result",
          "data": {
            "text/plain": [
              "(8961, 34)"
            ]
          },
          "metadata": {},
          "execution_count": 30
        }
      ]
    },
    {
      "cell_type": "code",
      "metadata": {
        "id": "NOd8g9Tzu1IJ"
      },
      "source": [
        "yte = to_categorical(y_test)"
      ],
      "execution_count": null,
      "outputs": []
    },
    {
      "cell_type": "code",
      "metadata": {
        "colab": {
          "base_uri": "https://localhost:8080/"
        },
        "id": "hyHBhWtfu6K4",
        "outputId": "503dffd4-d9c5-43d6-84b3-565106f14892"
      },
      "source": [
        "yte.shape"
      ],
      "execution_count": null,
      "outputs": [
        {
          "output_type": "execute_result",
          "data": {
            "text/plain": [
              "(3841, 34)"
            ]
          },
          "metadata": {},
          "execution_count": 32
        }
      ]
    },
    {
      "cell_type": "code",
      "metadata": {
        "id": "MT9G_7Sxu8iA"
      },
      "source": [
        "import tensorflow as tf\n"
      ],
      "execution_count": null,
      "outputs": []
    },
    {
      "cell_type": "code",
      "metadata": {
        "id": "dUCfUKUBu-CT"
      },
      "source": [
        "import tensorflow_hub as hub"
      ],
      "execution_count": null,
      "outputs": []
    },
    {
      "cell_type": "markdown",
      "metadata": {
        "id": "MYxEeiZioqVA"
      },
      "source": [
        "Importing the pretrained embedded layer from google....for better training the model..."
      ]
    },
    {
      "cell_type": "code",
      "metadata": {
        "id": "oBF7L9tavATR"
      },
      "source": [
        "embedding = \"https://tfhub.dev/google/nnlm-en-dim50/2\"\n",
        "hub_layer = hub.KerasLayer(embedding, input_shape=[], \n",
        "                           dtype=tf.string, trainable=True)\n",
        "#hub_layer(train)"
      ],
      "execution_count": null,
      "outputs": []
    },
    {
      "cell_type": "code",
      "metadata": {
        "id": "HuyvZydjvKQW"
      },
      "source": [
        "from tensorflow.keras.models import Sequential\n",
        "from tensorflow.keras.layers import Dense,Dropout"
      ],
      "execution_count": null,
      "outputs": []
    },
    {
      "cell_type": "markdown",
      "metadata": {
        "id": "ZuUKd0hco2WS"
      },
      "source": [
        "Preparing the model...."
      ]
    },
    {
      "cell_type": "code",
      "metadata": {
        "id": "M9iDyGSUvTDR"
      },
      "source": [
        "model = Sequential()\n",
        "model.add(hub_layer)\n",
        "model.add(Dense(512, activation='relu'))\n",
        "model.add(Dense(256, activation='relu'))\n",
        "model.add(Dense(128, activation='relu'))\n",
        "model.add(Dense(64, activation='relu'))\n",
        "model.add(Dense(40, activation='relu'))\n",
        "model.add(Dropout(0.2))\n",
        "model.add(Dense(34, activation='softmax'))"
      ],
      "execution_count": null,
      "outputs": []
    },
    {
      "cell_type": "code",
      "metadata": {
        "id": "yqNoxWHVrS9G"
      },
      "source": [
        "model.compile(optimizer='adam',\n",
        "              loss='categorical_crossentropy',\n",
        "              metrics=['accuracy'])"
      ],
      "execution_count": null,
      "outputs": []
    },
    {
      "cell_type": "markdown",
      "metadata": {
        "id": "9zoZEQHCo5rC"
      },
      "source": [
        "Fitting the model...."
      ]
    },
    {
      "cell_type": "code",
      "metadata": {
        "colab": {
          "base_uri": "https://localhost:8080/"
        },
        "id": "Cl9abJfPv8At",
        "outputId": "d4ee2a1e-31ac-450c-c8ac-406197fa64b3"
      },
      "source": [
        "model.fit(X_train,ytr,epochs=10,validation_data=(X_test,yte),verbose=1)"
      ],
      "execution_count": null,
      "outputs": [
        {
          "output_type": "stream",
          "name": "stdout",
          "text": [
            "Epoch 1/10\n",
            "281/281 [==============================] - 151s 536ms/step - loss: 2.4312 - accuracy: 0.3269 - val_loss: 2.0635 - val_accuracy: 0.4064\n",
            "Epoch 2/10\n",
            "281/281 [==============================] - 150s 532ms/step - loss: 1.7555 - accuracy: 0.5009 - val_loss: 1.9309 - val_accuracy: 0.4400\n",
            "Epoch 3/10\n",
            "281/281 [==============================] - 149s 531ms/step - loss: 1.3058 - accuracy: 0.6074 - val_loss: 2.0825 - val_accuracy: 0.4212\n",
            "Epoch 4/10\n",
            "281/281 [==============================] - 150s 533ms/step - loss: 0.9298 - accuracy: 0.7068 - val_loss: 2.5124 - val_accuracy: 0.4033\n",
            "Epoch 5/10\n",
            "281/281 [==============================] - 149s 531ms/step - loss: 0.6402 - accuracy: 0.7944 - val_loss: 3.0267 - val_accuracy: 0.3895\n",
            "Epoch 6/10\n",
            "281/281 [==============================] - 149s 530ms/step - loss: 0.4510 - accuracy: 0.8614 - val_loss: 3.7702 - val_accuracy: 0.3601\n",
            "Epoch 7/10\n",
            "281/281 [==============================] - 150s 534ms/step - loss: 0.3054 - accuracy: 0.9092 - val_loss: 4.3043 - val_accuracy: 0.3650\n",
            "Epoch 8/10\n",
            "281/281 [==============================] - 150s 535ms/step - loss: 0.2069 - accuracy: 0.9405 - val_loss: 4.7502 - val_accuracy: 0.3517\n",
            "Epoch 9/10\n",
            "281/281 [==============================] - 150s 533ms/step - loss: 0.1495 - accuracy: 0.9585 - val_loss: 5.1462 - val_accuracy: 0.3749\n",
            "Epoch 10/10\n",
            "281/281 [==============================] - 149s 531ms/step - loss: 0.1092 - accuracy: 0.9695 - val_loss: 5.5542 - val_accuracy: 0.3603\n"
          ]
        },
        {
          "output_type": "execute_result",
          "data": {
            "text/plain": [
              "<keras.callbacks.History at 0x7f6f2169da90>"
            ]
          },
          "metadata": {},
          "execution_count": 42
        }
      ]
    },
    {
      "cell_type": "code",
      "metadata": {
        "id": "4pSXFIWzpMKf"
      },
      "source": [
        "metrics = pd.DataFrame(model.history.history)"
      ],
      "execution_count": null,
      "outputs": []
    },
    {
      "cell_type": "code",
      "metadata": {
        "colab": {
          "base_uri": "https://localhost:8080/",
          "height": 282
        },
        "id": "drwb8Tx4qR7x",
        "outputId": "eeaec811-1871-4178-8f02-43249258b9b6"
      },
      "source": [
        "metrics[['loss','val_loss']].plot()"
      ],
      "execution_count": null,
      "outputs": [
        {
          "output_type": "execute_result",
          "data": {
            "text/plain": [
              "<matplotlib.axes._subplots.AxesSubplot at 0x7f6f21fe81d0>"
            ]
          },
          "metadata": {},
          "execution_count": 44
        },
        {
          "output_type": "display_data",
          "data": {
            "image/png": "[encoded data removed]",
            "text/plain": [
              "<Figure size 432x288 with 1 Axes>"
            ]
          },
          "metadata": {
            "needs_background": "light"
          }
        }
      ]
    },
    {
      "cell_type": "code",
      "metadata": {
        "colab": {
          "base_uri": "https://localhost:8080/",
          "height": 286
        },
        "id": "TdqjoXwCqSzo",
        "outputId": "09902d14-7c3d-49ba-d735-ba53f021fae1"
      },
      "source": [
        "metrics[['accuracy','val_accuracy']].plot()"
      ],
      "execution_count": null,
      "outputs": [
        {
          "output_type": "execute_result",
          "data": {
            "text/plain": [
              "<matplotlib.axes._subplots.AxesSubplot at 0x7f6f21f06c50>"
            ]
          },
          "metadata": {},
          "execution_count": 45
        },
        {
          "output_type": "display_data",
          "data": {
            "image/png": "[encoded data removed]",
            "text/plain": [
              "<Figure size 432x288 with 1 Axes>"
            ]
          },
          "metadata": {
            "needs_background": "light"
          }
        }
      ]
    },
    {
      "cell_type": "code",
      "metadata": {
        "colab": {
          "base_uri": "https://localhost:8080/"
        },
        "id": "q2AKMIW1qmgY",
        "outputId": "ffddfc1c-8c98-43da-9c8b-b9acf3fe1cdb"
      },
      "source": [
        "model.metrics_names"
      ],
      "execution_count": null,
      "outputs": [
        {
          "output_type": "execute_result",
          "data": {
            "text/plain": [
              "['loss', 'accuracy']"
            ]
          },
          "metadata": {},
          "execution_count": 46
        }
      ]
    },
    {
      "cell_type": "markdown",
      "metadata": {
        "id": "y2yUaALm1MJk"
      },
      "source": [
        "evaluating the model....."
      ]
    },
    {
      "cell_type": "code",
      "metadata": {
        "colab": {
          "base_uri": "https://localhost:8080/"
        },
        "id": "_my3TQVoqpCm",
        "outputId": "84cd35cb-b9d9-4dcc-c65a-02875df04152"
      },
      "source": [
        "model.evaluate(X_test,yte,verbose=0)"
      ],
      "execution_count": null,
      "outputs": [
        {
          "output_type": "execute_result",
          "data": {
            "text/plain": [
              "[5.554201602935791, 0.36032283306121826]"
            ]
          },
          "metadata": {},
          "execution_count": 47
        }
      ]
    },
    {
      "cell_type": "markdown",
      "metadata": {
        "id": "wjTrkSAX1PDs"
      },
      "source": [
        "Predicting the model...."
      ]
    },
    {
      "cell_type": "code",
      "metadata": {
        "id": "0xuv1Y3Q24Ab"
      },
      "source": [
        "predictions = model.predict(X_test)"
      ],
      "execution_count": null,
      "outputs": []
    },
    {
      "cell_type": "code",
      "metadata": {
        "id": "sH0cblJe4YyW"
      },
      "source": [
        "a = X_test[:1]"
      ],
      "execution_count": null,
      "outputs": []
    },
    {
      "cell_type": "code",
      "metadata": {
        "colab": {
          "base_uri": "https://localhost:8080/"
        },
        "id": "Q148MGY36A9S",
        "outputId": "6e4f5255-3b83-4d79-8ab6-2c509a695df9"
      },
      "source": [
        "a"
      ],
      "execution_count": null,
      "outputs": [
        {
          "output_type": "execute_result",
          "data": {
            "text/plain": [
              "5621    yeimo, a papuan activist was arrested and char...\n",
              "Name: summary, dtype: object"
            ]
          },
          "metadata": {},
          "execution_count": 51
        }
      ]
    },
    {
      "cell_type": "code",
      "metadata": {
        "id": "lLeGlAeH415x"
      },
      "source": [
        "h = model.predict(a)"
      ],
      "execution_count": null,
      "outputs": []
    },
    {
      "cell_type": "code",
      "metadata": {
        "colab": {
          "base_uri": "https://localhost:8080/"
        },
        "id": "SHaobwem6HMF",
        "outputId": "c5670ef3-ab66-4136-85d5-feb8a10c8bf4"
      },
      "source": [
        "h"
      ],
      "execution_count": null,
      "outputs": [
        {
          "output_type": "execute_result",
          "data": {
            "text/plain": [
              "array([[4.7434837e-11, 3.3666613e-12, 1.2492764e-05, 6.5413415e-01,\n",
              "        2.3747793e-10, 1.1853002e-05, 4.8625605e-08, 1.7596791e-04,\n",
              "        3.9511194e-04, 2.6246953e-01, 5.2314331e-06, 3.4277625e-03,\n",
              "        6.3862205e-02, 3.0407091e-07, 5.3442864e-07, 1.4731835e-06,\n",
              "        3.1076432e-08, 3.5671681e-11, 1.0722136e-04, 1.5667196e-05,\n",
              "        2.8718852e-05, 6.6237987e-10, 3.9413466e-11, 8.6725099e-10,\n",
              "        9.2194863e-10, 2.0507977e-11, 1.5351218e-02, 3.6657673e-07,\n",
              "        6.4462704e-08, 1.7686824e-09, 5.7050227e-09, 7.2645867e-10,\n",
              "        2.8889915e-10, 1.2575403e-08]], dtype=float32)"
            ]
          },
          "metadata": {},
          "execution_count": 53
        }
      ]
    },
    {
      "cell_type": "code",
      "metadata": {
        "colab": {
          "base_uri": "https://localhost:8080/"
        },
        "id": "vnKcS7M87PlA",
        "outputId": "46fd43fe-457a-4455-f4e1-1a985fcec031"
      },
      "source": [
        "np.argmax(h)"
      ],
      "execution_count": null,
      "outputs": [
        {
          "output_type": "execute_result",
          "data": {
            "text/plain": [
              "3"
            ]
          },
          "metadata": {},
          "execution_count": 54
        }
      ]
    },
    {
      "cell_type": "markdown",
      "metadata": {
        "id": "n8kmwPFz1UVO"
      },
      "source": [
        "Here then number three means.... politics.... and it is perfectly predicted"
      ]
    },
    {
      "cell_type": "markdown",
      "metadata": {
        "id": "L_GJ95q08-Ou"
      },
      "source": [
        "Here, the model predicted the accurate result.... and the accuracy is also quiet good...."
      ]
    },
    {
      "cell_type": "code",
      "metadata": {
        "colab": {
          "base_uri": "https://localhost:8080/"
        },
        "id": "qA34l6xIlUa4",
        "outputId": "e0a6a04c-bca6-45c4-b57a-87ce01aef76f"
      },
      "source": [
        "!mkdir -p saved_model\n",
        "model.save('saved_model/text_classification')"
      ],
      "execution_count": null,
      "outputs": [
        {
          "output_type": "stream",
          "name": "stdout",
          "text": [
            "INFO:tensorflow:Assets written to: saved_model/text_classification/assets\n"
          ]
        },
        {
          "output_type": "stream",
          "name": "stderr",
          "text": [
            "INFO:tensorflow:Assets written to: saved_model/text_classification/assets\n"
          ]
        }
      ]
    },
    {
      "cell_type": "code",
      "metadata": {
        "colab": {
          "base_uri": "https://localhost:8080/"
        },
        "id": "zrMwnMe9lYfy",
        "outputId": "60795570-5236-4082-f142-37f313cecf61"
      },
      "source": [
        "ls"
      ],
      "execution_count": null,
      "outputs": [
        {
          "output_type": "stream",
          "name": "stdout",
          "text": [
            "\u001b[0m\u001b[01;34msample_data\u001b[0m/  \u001b[01;34msaved_model\u001b[0m/\n"
          ]
        }
      ]
    },
    {
      "cell_type": "code",
      "metadata": {
        "colab": {
          "base_uri": "https://localhost:8080/"
        },
        "id": "TkQ-BFwylfoO",
        "outputId": "76b7e093-b6fd-4e2d-be2e-b9fe47e348e7"
      },
      "source": [
        "ls saved_model/"
      ],
      "execution_count": null,
      "outputs": [
        {
          "output_type": "stream",
          "name": "stdout",
          "text": [
            "\u001b[0m\u001b[01;34mtext_classification\u001b[0m/\n"
          ]
        }
      ]
    },
    {
      "cell_type": "code",
      "metadata": {
        "colab": {
          "base_uri": "https://localhost:8080/"
        },
        "id": "kJbXVtcTljQW",
        "outputId": "85336d4f-f334-470d-a3ae-8177657e7877"
      },
      "source": [
        "ls saved_model/text_classification"
      ],
      "execution_count": null,
      "outputs": [
        {
          "output_type": "stream",
          "name": "stdout",
          "text": [
            "\u001b[0m\u001b[01;34massets\u001b[0m/  keras_metadata.pb  saved_model.pb  \u001b[01;34mvariables\u001b[0m/\n"
          ]
        }
      ]
    },
    {
      "cell_type": "code",
      "metadata": {
        "id": "ft5SF3aa24zt"
      },
      "source": [
        ""
      ],
      "execution_count": null,
      "outputs": []
    },
    {
      "cell_type": "markdown",
      "metadata": {
        "id": "UCoj73xB24OL"
      },
      "source": [
        "Follow from here......"
      ]
    },
    {
      "cell_type": "code",
      "metadata": {
        "id": "zJU_rsJD29jy"
      },
      "source": [
        ""
      ],
      "execution_count": null,
      "outputs": []
    },
    {
      "cell_type": "markdown",
      "metadata": {
        "id": "4oRBfCfrQHzz"
      },
      "source": [
        "Loading the model which has been already shared in the google colab....."
      ]
    },
    {
      "cell_type": "code",
      "metadata": {
        "id": "x6AYhHPSl28O"
      },
      "source": [
        "import tensorflow as tf"
      ],
      "execution_count": 110,
      "outputs": []
    },
    {
      "cell_type": "code",
      "metadata": {
        "id": "qWE9s-nOlqUR"
      },
      "source": [
        "main = tf.keras.models.load_model('saved_model/text_classification/')"
      ],
      "execution_count": 111,
      "outputs": []
    },
    {
      "cell_type": "markdown",
      "metadata": {
        "id": "KJA_AEdoQSBd"
      },
      "source": [
        "Testing the model by picking the sample summary from the test dataset....."
      ]
    },
    {
      "cell_type": "markdown",
      "metadata": {
        "id": "R6wOYR-QQgOC"
      },
      "source": [
        "Here we are picking the 13 summary from the test dataset....."
      ]
    },
    {
      "cell_type": "code",
      "metadata": {
        "id": "q7shsIWymEeX"
      },
      "source": [
        "k = X_test[12:13]"
      ],
      "execution_count": 112,
      "outputs": []
    },
    {
      "cell_type": "code",
      "metadata": {
        "colab": {
          "base_uri": "https://localhost:8080/"
        },
        "id": "Ghk6i1rv2sQC",
        "outputId": "b2960b8a-abf3-49a5-8cf8-c073c66a37a9"
      },
      "source": [
        "k"
      ],
      "execution_count": 113,
      "outputs": [
        {
          "output_type": "execute_result",
          "data": {
            "text/plain": [
              "5099    german president frank-walter steinmeier annou...\n",
              "Name: summary, dtype: object"
            ]
          },
          "metadata": {},
          "execution_count": 113
        }
      ]
    },
    {
      "cell_type": "code",
      "metadata": {
        "id": "YDyZw467P9k-"
      },
      "source": [
        "u = main.predict(k)"
      ],
      "execution_count": 127,
      "outputs": []
    },
    {
      "cell_type": "code",
      "metadata": {
        "colab": {
          "base_uri": "https://localhost:8080/"
        },
        "id": "nffgEkvlQCp8",
        "outputId": "4cc5247c-7b6f-4b5f-989e-2b8c594d9990"
      },
      "source": [
        "np.argmax(u)"
      ],
      "execution_count": 128,
      "outputs": [
        {
          "output_type": "execute_result",
          "data": {
            "text/plain": [
              "7"
            ]
          },
          "metadata": {},
          "execution_count": 128
        }
      ]
    },
    {
      "cell_type": "markdown",
      "metadata": {
        "id": "5mNWKqbTQmsC"
      },
      "source": [
        "Here the model predicted correctly and result here \"7\" indicates that the summary related to \"Global Health\"......."
      ]
    },
    {
      "cell_type": "markdown",
      "metadata": {
        "id": "V92IxF4IQ8nF"
      },
      "source": [
        "Here we are giving the outside summary......"
      ]
    },
    {
      "cell_type": "code",
      "metadata": {
        "id": "BeEgZdiVPq_Z"
      },
      "source": [
        "l = [\"The number of people who lost their lives in Uttarakhand amid heavy rainfall rose to 47. The number of casualties in Kumaon alone has reached 42, DIG Nilesh Anand Bharne said. Of the 42 new casualties, 28 people were killed in Nainital. Notably, Union Home Minister Amit Shah will visit Uttarakhand on Wednesday to take stock of the situation.\"]"
      ],
      "execution_count": 124,
      "outputs": []
    },
    {
      "cell_type": "code",
      "metadata": {
        "id": "2hzxfWCVmKv5"
      },
      "source": [
        "z = main.predict(l)"
      ],
      "execution_count": 125,
      "outputs": []
    },
    {
      "cell_type": "code",
      "metadata": {
        "colab": {
          "base_uri": "https://localhost:8080/"
        },
        "id": "qIlsCcVcmmaG",
        "outputId": "103e16bb-d59d-4756-cba1-0f1b286b5a1d"
      },
      "source": [
        "np.argmax(z)"
      ],
      "execution_count": 126,
      "outputs": [
        {
          "output_type": "execute_result",
          "data": {
            "text/plain": [
              "9"
            ]
          },
          "metadata": {},
          "execution_count": 126
        }
      ]
    },
    {
      "cell_type": "markdown",
      "metadata": {
        "id": "JOu5-mflRFQA"
      },
      "source": [
        "Here \"9\" indicates that the news realted to \"ASIA\". and the result is correct....."
      ]
    },
    {
      "cell_type": "markdown",
      "metadata": {
        "id": "TNe7XcBuRUnv"
      },
      "source": [
        "you can check the results down below in the groupby table....."
      ]
    },
    {
      "cell_type": "code",
      "metadata": {
        "id": "M3aZ6YN22OuZ"
      },
      "source": [
        "g = df.groupby(['topicID','topicName'])"
      ],
      "execution_count": 121,
      "outputs": []
    },
    {
      "cell_type": "code",
      "metadata": {
        "colab": {
          "base_uri": "https://localhost:8080/",
          "height": 979
        },
        "id": "cJzmIQ1f2bKY",
        "outputId": "e3d8a419-8abf-4477-9356-f81a08f66586"
      },
      "source": [
        "g.first()"
      ],
      "execution_count": 101,
      "outputs": [
        {
          "output_type": "execute_result",
          "data": {
            "text/html": [
              "<div>\n",
              "<style scoped>\n",
              "    .dataframe tbody tr th:only-of-type {\n",
              "        vertical-align: middle;\n",
              "    }\n",
              "\n",
              "    .dataframe tbody tr th {\n",
              "        vertical-align: top;\n",
              "    }\n",
              "\n",
              "    .dataframe thead th {\n",
              "        text-align: right;\n",
              "    }\n",
              "</style>\n",
              "<table border=\"1\" class=\"dataframe\">\n",
              "  <thead>\n",
              "    <tr style=\"text-align: right;\">\n",
              "      <th></th>\n",
              "      <th></th>\n",
              "      <th>id</th>\n",
              "      <th>summary</th>\n",
              "    </tr>\n",
              "    <tr>\n",
              "      <th>topicID</th>\n",
              "      <th>topicName</th>\n",
              "      <th></th>\n",
              "      <th></th>\n",
              "    </tr>\n",
              "  </thead>\n",
              "  <tbody>\n",
              "    <tr>\n",
              "      <th>2</th>\n",
              "      <th>Sports</th>\n",
              "      <td>26632</td>\n",
              "      <td>germany is set to play at the world cup 2022 i...</td>\n",
              "    </tr>\n",
              "    <tr>\n",
              "      <th>3</th>\n",
              "      <th>Politics</th>\n",
              "      <td>26694</td>\n",
              "      <td>the eu has announced a humanitarian aid packag...</td>\n",
              "    </tr>\n",
              "    <tr>\n",
              "      <th>4</th>\n",
              "      <th>Start-ups</th>\n",
              "      <td>26612</td>\n",
              "      <td>lego has had to “address gender bias and harmf...</td>\n",
              "    </tr>\n",
              "    <tr>\n",
              "      <th>5</th>\n",
              "      <th>Business</th>\n",
              "      <td>26662</td>\n",
              "      <td>adani ports, india’s largest port operator, sa...</td>\n",
              "    </tr>\n",
              "    <tr>\n",
              "      <th>6</th>\n",
              "      <th>Habitat</th>\n",
              "      <td>26676</td>\n",
              "      <td>the greek island of crete has been hit a 6.4-m...</td>\n",
              "    </tr>\n",
              "    <tr>\n",
              "      <th>7</th>\n",
              "      <th>Global health</th>\n",
              "      <td>26671</td>\n",
              "      <td>the uk's failure to do more to stop covid spre...</td>\n",
              "    </tr>\n",
              "    <tr>\n",
              "      <th>8</th>\n",
              "      <th>Europe</th>\n",
              "      <td>26678</td>\n",
              "      <td>cemetery outside berlin said it made a “terrib...</td>\n",
              "    </tr>\n",
              "    <tr>\n",
              "      <th>9</th>\n",
              "      <th>Asia</th>\n",
              "      <td>26688</td>\n",
              "      <td>leaders from g20 nations have stressed the imp...</td>\n",
              "    </tr>\n",
              "    <tr>\n",
              "      <th>10</th>\n",
              "      <th>North America</th>\n",
              "      <td>26692</td>\n",
              "      <td>governor sheinbaum has confirmed that a statue...</td>\n",
              "    </tr>\n",
              "    <tr>\n",
              "      <th>11</th>\n",
              "      <th>Africa</th>\n",
              "      <td>26655</td>\n",
              "      <td>the massive displacement in cabo delgado has p...</td>\n",
              "    </tr>\n",
              "    <tr>\n",
              "      <th>12</th>\n",
              "      <th>Middle East</th>\n",
              "      <td>26660</td>\n",
              "      <td>the complex, discovered in the central town of...</td>\n",
              "    </tr>\n",
              "    <tr>\n",
              "      <th>13</th>\n",
              "      <th>Technology</th>\n",
              "      <td>26696</td>\n",
              "      <td>expo 2020 dubai is finally open after an 8-mon...</td>\n",
              "    </tr>\n",
              "    <tr>\n",
              "      <th>14</th>\n",
              "      <th>Travel</th>\n",
              "      <td>26616</td>\n",
              "      <td>the dominican republic surpassed pre-pandemic ...</td>\n",
              "    </tr>\n",
              "    <tr>\n",
              "      <th>15</th>\n",
              "      <th>Gender Equality</th>\n",
              "      <td>26645</td>\n",
              "      <td>sally ride, the first american woman to travel...</td>\n",
              "    </tr>\n",
              "    <tr>\n",
              "      <th>16</th>\n",
              "      <th>Art and Culture</th>\n",
              "      <td>26611</td>\n",
              "      <td>pink has been named the most played female art...</td>\n",
              "    </tr>\n",
              "    <tr>\n",
              "      <th>18</th>\n",
              "      <th>Latin America</th>\n",
              "      <td>26618</td>\n",
              "      <td>biden has proclaimed oct. 11 as indigenous peo...</td>\n",
              "    </tr>\n",
              "    <tr>\n",
              "      <th>19</th>\n",
              "      <th>Social Movements</th>\n",
              "      <td>26420</td>\n",
              "      <td>south africa's biggest metalworkers union laun...</td>\n",
              "    </tr>\n",
              "    <tr>\n",
              "      <th>20</th>\n",
              "      <th>Local News</th>\n",
              "      <td>26675</td>\n",
              "      <td>govt. has decided to restore the scheduled dom...</td>\n",
              "    </tr>\n",
              "    <tr>\n",
              "      <th>21</th>\n",
              "      <th>Happy news</th>\n",
              "      <td>26687</td>\n",
              "      <td>the us plans to reopen its land borders with c...</td>\n",
              "    </tr>\n",
              "    <tr>\n",
              "      <th>24</th>\n",
              "      <th>Climate Crisis</th>\n",
              "      <td>26631</td>\n",
              "      <td>prince charles said he totally understands why...</td>\n",
              "    </tr>\n",
              "    <tr>\n",
              "      <th>25</th>\n",
              "      <th>Science</th>\n",
              "      <td>26654</td>\n",
              "      <td>the planet is tidally locked - one side of the...</td>\n",
              "    </tr>\n",
              "    <tr>\n",
              "      <th>26</th>\n",
              "      <th>Human Rights</th>\n",
              "      <td>26275</td>\n",
              "      <td>the us department of labor has published a rep...</td>\n",
              "    </tr>\n",
              "    <tr>\n",
              "      <th>27</th>\n",
              "      <th>Mental Health</th>\n",
              "      <td>26348</td>\n",
              "      <td>french psychiatry professionals are scrutinisi...</td>\n",
              "    </tr>\n",
              "    <tr>\n",
              "      <th>28</th>\n",
              "      <th>Biotech</th>\n",
              "      <td>17362</td>\n",
              "      <td>josé baselga, astrazeneca's executive vice pre...</td>\n",
              "    </tr>\n",
              "    <tr>\n",
              "      <th>29</th>\n",
              "      <th>LGBT</th>\n",
              "      <td>16595</td>\n",
              "      <td>sydney's annual mardi gras parade was held ins...</td>\n",
              "    </tr>\n",
              "    <tr>\n",
              "      <th>30</th>\n",
              "      <th>Finance</th>\n",
              "      <td>23601</td>\n",
              "      <td>the recent surge in consumer prices will be a ...</td>\n",
              "    </tr>\n",
              "    <tr>\n",
              "      <th>31</th>\n",
              "      <th>Education</th>\n",
              "      <td>25738</td>\n",
              "      <td>the former united states secretary of state hi...</td>\n",
              "    </tr>\n",
              "    <tr>\n",
              "      <th>32</th>\n",
              "      <th>Crypto Currency</th>\n",
              "      <td>21860</td>\n",
              "      <td>formula 1 landed a new sponsor tuesday in a de...</td>\n",
              "    </tr>\n",
              "    <tr>\n",
              "      <th>33</th>\n",
              "      <th>Human Stories</th>\n",
              "      <td>25928</td>\n",
              "      <td>in russia, iran, zambia and other countries, l...</td>\n",
              "    </tr>\n",
              "  </tbody>\n",
              "</table>\n",
              "</div>"
            ],
            "text/plain": [
              "                             id                                            summary\n",
              "topicID topicName                                                                 \n",
              "2       Sports            26632  germany is set to play at the world cup 2022 i...\n",
              "3       Politics          26694  the eu has announced a humanitarian aid packag...\n",
              "4       Start-ups         26612  lego has had to “address gender bias and harmf...\n",
              "5       Business          26662  adani ports, india’s largest port operator, sa...\n",
              "6       Habitat           26676  the greek island of crete has been hit a 6.4-m...\n",
              "7       Global health     26671  the uk's failure to do more to stop covid spre...\n",
              "8       Europe            26678  cemetery outside berlin said it made a “terrib...\n",
              "9       Asia              26688  leaders from g20 nations have stressed the imp...\n",
              "10      North America     26692  governor sheinbaum has confirmed that a statue...\n",
              "11      Africa            26655  the massive displacement in cabo delgado has p...\n",
              "12      Middle East       26660  the complex, discovered in the central town of...\n",
              "13      Technology        26696  expo 2020 dubai is finally open after an 8-mon...\n",
              "14      Travel            26616  the dominican republic surpassed pre-pandemic ...\n",
              "15      Gender Equality   26645  sally ride, the first american woman to travel...\n",
              "16      Art and Culture   26611  pink has been named the most played female art...\n",
              "18      Latin America     26618  biden has proclaimed oct. 11 as indigenous peo...\n",
              "19      Social Movements  26420  south africa's biggest metalworkers union laun...\n",
              "20      Local News        26675  govt. has decided to restore the scheduled dom...\n",
              "21      Happy news        26687  the us plans to reopen its land borders with c...\n",
              "24      Climate Crisis    26631  prince charles said he totally understands why...\n",
              "25      Science           26654  the planet is tidally locked - one side of the...\n",
              "26      Human Rights      26275  the us department of labor has published a rep...\n",
              "27      Mental Health     26348  french psychiatry professionals are scrutinisi...\n",
              "28      Biotech           17362  josé baselga, astrazeneca's executive vice pre...\n",
              "29      LGBT              16595  sydney's annual mardi gras parade was held ins...\n",
              "30      Finance           23601  the recent surge in consumer prices will be a ...\n",
              "31      Education         25738  the former united states secretary of state hi...\n",
              "32      Crypto Currency   21860  formula 1 landed a new sponsor tuesday in a de...\n",
              "33      Human Stories     25928  in russia, iran, zambia and other countries, l..."
            ]
          },
          "metadata": {},
          "execution_count": 101
        }
      ]
    },
    {
      "cell_type": "code",
      "metadata": {
        "id": "H5IBSh5v2m0J"
      },
      "source": [
        ""
      ],
      "execution_count": null,
      "outputs": []
    }
  ]
}
